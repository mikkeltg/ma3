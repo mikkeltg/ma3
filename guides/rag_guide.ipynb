{
 "cells": [
  {
   "cell_type": "markdown",
   "metadata": {},
   "source": [
    "**AI & Machine Learning (KAN-CINTO4003U) - Copenhagen Business School | Spring 2025**\n",
    "\n",
    "***"
   ]
  },
  {
   "cell_type": "markdown",
   "metadata": {},
   "source": [
    "\n",
    "<p align=\"center\">\n",
    "<img src=\"media/rag_overview.png\" alt=\"LLM\" width=\"800\"/> <br>\n",
    "Image from HuggingFace's \"<i><a href=\"https://huggingface.co/learn/cookbook/rag_evaluation\">RAG Evaluation</a></i>\" by <a href=\"https://huggingface.co/m-ric\">Aymeric Roucher</a>.<br> Copyright © 2025. All rights reserved.\n",
    "</p>\n",
    "\n",
    "***\n",
    "Sources: <br>\n",
    "- [RAG Evaluation (HuggingFace)](https://huggingface.co/learn/cookbook/rag_evaluation)\n",
    "- [RAG: Retrieval-Augmented Generation (LangChain)](https://python.langchain.com/docs/concepts/rag/)\n",
    "- [RAG Retrieval](https://python.langchain.com/docs/concepts/retrieval/)\n",
    "- [Embedding Models (LangChain)](https://python.langchain.com/docs/concepts/embedding_models/)\n",
    "- [Building a Semantic Search Engine for Internal Documentation: A Comprehensive Guide](https://blog.devgenius.io/building-a-semantic-search-engine-for-internal-documentation-a-comprehensive-guide-270efa9a30a0)\n",
    "- [Build a Retrieval Augmented Generation (RAG) App: Part 1](https://python.langchain.com/docs/tutorials/rag/)\n",
    "\n",
    "\n",
    "## Retrieval Augmented Generation (RAG)\n",
    "\n",
    "Retrieval Augmented Generation (RAG) is a powerful technique that enhances [language models](/docs/concepts/chat_models/) by combining them with external knowledge bases. RAG is a technique used to address [a key limitation of models](https://arxiv.org/abs/2401.11817): Generative language models rely on fixed training datasets, which can lead to outdated or incomplete information - and they will likely not know the answer to domain-specific questions like confidential company information. When an LLM is presented with a query that it doesn't know the answer to, the best case scenario is that it will respond with \"I don't know.\" However, as generative models lack self-reflection and are trained to, well, generate, in many cases, the model will generate a response that is incorrect, irrelevant or directly misleading, a phenomenon known as *hallucinations*.\n",
    "\n",
    "### Understanding hallucinations\n",
    "Research (e.g., \"*[Hallucination is inevitable: An innate limitation of large language models](https://arxiv.org/abs/2401.11817)\"* (2024) by Xu, Z., Jain, S., & Kankanhalli, M.) shows that hallucinatory behavior is a fundamental limitation of LLMs. As autoregressive models, they generate text sequentially with no mechanism to verify factual accuracy against reality. Their knowledge is fixed in parameters during training and lacks external grounding during generation. Mathematical proofs show that even theoretically perfect LLMs cannot learn all computable functions, making some degree of hallucination inevitable. This limitation applies not just in theoretical frameworks but extends to all real-world LLM applications as well. One dire example is [how a lawyer used ChatGPT in court and cited fake cases, leading to a judge considering sanctions.](https://www.forbes.com/sites/mollybohannon/2023/06/08/lawyer-used-chatgpt-in-court-and-cited-fake-cases-a-judge-is-considering-sanctions/?sh=3fd97317c7f3&ref=alhena.ai). When forced to find an answer outside its training data, the model simply invents one. \n",
    "\n",
    "| Query                                | LLM Response                                             | Error                                                                 |\n",
    "|--------------------------------------|----------------------------------------------------------|-----------------------------------------------------------------------|\n",
    "| What is Ann Frank's favorite smartphone? | Ann Frank's favorite smartphone is the iPhone 12 Pro Max. | Anne Frank died in 1945, and the iPhone 12 Pro Max was released in the 2020s. |\n",
    "\n",
    "\n",
    "Another interesting perspective is given by [Andrej Karpathy](https://karpathy.ai/), Eureka Labs and former Director of AI at Tesla, who [tweeted](https://x.com/karpathy/status/1733299213503787018?lang=es):\n",
    "\n",
    "> *\"I always struggle a bit with I'm asked about the \"hallucination problem\" in LLMs. Because, in some sense, hallucination is all LLMs do. They are dream machines. We direct their dreams with prompts. The prompts start the dream, and based on the LLM's hazy recollection of its training documents, most of the time the result goes someplace useful. It's only when the dreams go into deemed factually incorrect territory that we label it a \"hallucination\". It looks like a bug, but it's just the LLM doing what it always does.*\n",
    "\n",
    "> *At the other end of the extreme consider a search engine. It takes the prompt and just returns one of the most similar \"training documents\" it has in its database, verbatim. You could say that this search engine has a \"creativity problem\" - it will never respond with something new. An LLM is 100% dreaming and has the hallucination problem. A search engine is 0% dreaming and has the creativity problem. \\[...\\]\"*\n",
    "\n",
    "### Mitigating hallucinations\n",
    "While various approaches to mitigate hallucinatory behavior continue to develop, the underlying constraints ensure that some degree of hallucination will persist in any LLM implementation. When faced with a hallucinating model, we would like to feed it with more information. The intuitive way to accomplish this is to fine-tune the model on a specific dataset. However, this approach is costly and time-consuming, and it may not be feasible for all applications. And what if we have information that changes frequently, like news, product prices, or stock market data? Fine-tuning is not a practical solution in these cases because the model would need to be retrained every time the data changes. Broadly speaking, there are three ways to mitigate hallucinations:\n",
    "| Approach            | Pros                                                                 | Cons                                                                 |\n",
    "|---------------------|----------------------------------------------------------------------|---------------------------------------------------------------------|\n",
    "| **Fine-tuning**     | Reduces hallucinations by training on specific datasets, Can improve model performance in specific domains | Costly and time-consuming, Not feasible for frequently changing information |\n",
    "| **Self-reflection** | Models can admit when they don't know the answer, Can reduce incorrect or misleading responses | Still in early stages of development, Might block hallucinations but doesn't expand the models knowledge. |\n",
    "| **External grounding** | Provides models with external knowledge sources to ground responses, Can significantly reduce hallucinations | Requires access to up-to-date and relevant knowledge bases, May involve additional complexity in system design and maintenance |\n",
    "\n",
    "### RAG as external grounding\n",
    "The inherent limitation of hallucinary behaviour highlights why complementary approaches like RAG have become popular. With RAG, we can induce the model with external knowledge *at inference time* instead of training time, a very cost effective alternative to fine-tuning. By grounding LLM responses in external, verifiable knowledge sources, RAG provides a practical technique to reduce hallucinations and (hopefully) improve the reliability of AI-generated content.\n",
    "\n",
    "### How does RAG work?\n",
    "When given a query, before the LLM sees the input, RAG systems first search a knowledge base for information relevant to the query (using semantic similarity search via a [retriever](/docs/concepts/retrievers/)). The system then incorporates this retrieved information into the model's prompt. This means that the model can use the provided context to generate a response to the query. What we are really doing is *grounding* the model's response in the retrieved context, which helps to reduce hallucinations and improve the quality of the response.\n",
    "\n",
    "More specifically, if we follow the image above, the RAG system works as follows:\n",
    "\n",
    "| Phase               | Stage            | Steps                                                                 |\n",
    "|---------------------|------------------|----------------------------------------------------------------------|\n",
    "| **Pre-Production**  | Knowledge Base Preparation | 1. Start with a collection of documents/information sources <br> 2. Apply chunking methods to break documents into manageable pieces <br> 3. Embed documents using an embedding model <br> 4. Store embeddings in a vector database |\n",
    "| **Production**      | Retriever Stage  | 1. Receive user query <br> 2. (Optionally reformulate the user query to improve retrieval) <br> 3. Embed the user query using the same embedding model <br> 4. Find closest documents to the embedded query in the vector database <br> (5. Possibility to use metadata in search process) |\n",
    "| **Production**   | Reader Stage     | 1. Retrieve top k similar documents (Documents contain text content, vector embeddings, and metadata) <br> 2. Post-process and aggregate document contents into a context <br> (Can apply prompt compression techniques and/or reranking if needed) <br> 3. Build a prompt based on the user query and context (Consider prompt choice strategies) <br> 4. Pass the prompt to the LLM <br> 5. LLM generates a response from the query, system prompt and context <br> 6. (Optionally verify the generated response) <br> 7. Return the LLM answer to the user |\n",
    "\n",
    "***\n",
    "\n",
    "<br><br>\n",
    "\n",
    "## Key concepts\n",
    "\n",
    "\n",
    "<p align=\"center\">\n",
    "<img src=\"media/rag_concepts.png\" alt=\"LLM\" width=\"800\"/> <br>\n",
    "Image from <a href=\"https://www.langchain.com/\">LangChain</a>'s \"<i><a href=https://python.langchain.com/docs/concepts/rag/\">Retrieval augmented generation (RAG)</a></i>\".<br> Copyright © 2025. All rights reserved.\n",
    "</p>\n",
    "\n",
    "0. **Creating a knowledge base**: Collect and embed relevant documents.\n",
    "\n",
    "1. **Retrieval system**: Retrieve relevant information from a knowledge base.\n",
    "\n",
    "2. **Using external knowledge**: Pass retrieved information to a model.\n",
    "\n",
    "***\n",
    "\n",
    "\n",
    "### Creating a knowledge base\n",
    "\n",
    "The first step in setting up a RAG system is to create a knowledge base. This involves collecting and *embedding* relevant documents that the model can use to ground its responses. Consider the table below as inspiration for the types of data sources you might use in different domains:\n",
    "\n",
    "| Use Case                | Relevant Data Sources                                                                 |\n",
    "|-------------------------|----------------------------------------------------------------------------------------|\n",
    "| **Customer Support**    | FAQ documents, product manuals, support tickets, knowledge base articles               |\n",
    "| **Healthcare**          | Medical journals, clinical trial data, patient records, drug information databases      |\n",
    "| **Finance**             | Financial reports, stock market data, economic indicators, investment research reports |\n",
    "| **E-commerce**          | Product catalogs, customer reviews, sales data, inventory records                       |\n",
    "| **Education**           | Textbooks, lecture notes, research papers, online course materials                      |\n",
    "| **Legal**               | Case law databases, legal statutes, contracts, legal opinions                           |\n",
    "| **News**                | News articles, press releases, social media feeds, news agency reports                  |\n",
    "| **Travel**              | Travel guides, hotel reviews, flight schedules, destination information                 |\n",
    "\n",
    "<br>\n",
    "\n",
    "> The quality of the knowledge base is crucial for the performance of the RAG system. The documents should be relevant, up-to-date, and diverse enough to cover a wide range of topics. This alone presents a whole set of challenges, such as data collection, cleaning, updating, and deduplication, which are beyond the scope of this guide.\n",
    "\n",
    "> The knowledge base can contain not only text but also other types of content, such as images, audio, or video. In this case, the retrieval system should be able to handle multimodal data and provide the model with the relevant information. This, however, adds another layer of complexity to the system, and lies beyond the scope of this guide.\n",
    "\n",
    "### Embedding documents\n",
    "\n",
    "<p align=\"center\">\n",
    "<img src=\"media/semantic_space.png\" alt=\"LLM\" width=\"800\"/> <br>\n",
    "Image from <a href=\"https://www.langchain.com/\">LangChain</a>'s \"<i><a href=https://python.langchain.com/docs/concepts/embedding_models/\">Embedding models</a></i>\".<br> Copyright © 2025. All rights reserved.\n",
    "</p>\n",
    "\n",
    "Imagine being able to capture the essence of any text - a tweet, document, or book - in a single, compact representation. This is the power of embedding models, which lie at the heart of many retrieval systems. Embedding models transform human language into a format that machines can understand and compare with speed and accuracy. These models take text as input and produce a fixed-length array of numbers, a numerical fingerprint of the text's semantic meaning. Embeddings allow search system to find relevant documents not just based on keyword matches, but on semantic understanding.\n",
    "\n",
    "Each embedding is essentially a set of coordinates, often in a high-dimensional space. In this space, the position of each point (embedding) reflects the meaning of its corresponding text. Just as similar words might be close to each other in a thesaurus, similar concepts end up close to each other in this embedding space. This allows for intuitive comparisons between different pieces of text. By reducing text to these numerical representations, we can use simple mathematical operations to quickly measure how alike two pieces of text are, regardless of their original length or structure. Some common similarity metrics include:\n",
    "\n",
    "- Cosine Similarity: Measures the cosine of the angle between two vectors.\n",
    "- Euclidean Distance: Measures the straight-line distance between two points.\n",
    "- Dot Product: Measures the projection of one vector onto another.\n",
    "\n",
    "**Remember how we used BERT embeddings in MA2?** BERT is just one example of an embedding (or an *encoder*) model. Embedding models are trained on large amounts of text data to learn the relationships between words, sentences, and documents. In contrast to generative models, which produce text, embedding models are discriminative models that map text to a fixed-size vector.\n",
    "\n",
    "**In a RAG settings, the retrieval system uses these embeddings to find the most relevant documents to a given query.**\n",
    "\n",
    "#### Steps to create a knowledge base\n",
    "\n",
    "<p align=\"center\">\n",
    "<img src=\"media/indexing.png\" alt=\"LLM\" width=\"800\"/> <br>\n",
    "Image from <a href=\"https://www.langchain.com/\">LangChain</a>'s \"<i><a href=https://python.langchain.com/docs/tutorials/rag/\">Build a Retrieval Augmented Generation (RAG) App: Part 1</a></i>\".<br> Copyright © 2025. All rights reserved.\n",
    "</p>\n",
    "\n",
    "Essentially, we need to accomplish four things to create a knowledge base, as shown in the image above.\n",
    "\n",
    "1. **Load**: First we need to load our data. This is done with Document Loaders.\n",
    "2. **Split**: Text splitters break large documents into smaller chunks. This is useful (and often needed) both for indexing data and passing it into a model, as large chunks are harder to search over and won't fit in a model's finite context window.\n",
    "3. **Embed**: We need to convert our text into embeddings. This is done using an `embedding model`.\n",
    "4. **Store**: We need somewhere to store and index our splits, so that they can be searched over later. This is often done using a `VectorStore`.\n",
    "\n",
    "#### Chunking strategies\n",
    "What is the best way to split documents into chunks? There are several strategies, each with its own trade-offs:\n",
    "\n",
    "| Strategy                | Description                                                                                                                                                                                                 | Pros                                                                 | Cons                                                                 |\n",
    "|-------------------------|-------------------------------------------------------------------------------------------------------------------------------------------------------------------------------------------------------------|----------------------------------------------------------------------|---------------------------------------------------------------------|\n",
    "| Fixed-size chunking     | Text splitting with a specific chunk size and optional chunk overlap. This approach is the most common and straightforward.                                                                                  | Simple to implement, Consistent chunk sizes                          | May split important context, Not context-aware                      |\n",
    "| Recursive chunking      | Iterating default separators until one of them produces the preferred chunk size. Default separators include [\"\\n\\n\", \"\\n\", \" \", \"\"]. This chunking method uses hierarchical separators to keep paragraphs, followed by sentences and then words, together as much as possible. | Maintains logical structure, Flexible                                | Can be computationally expensive, May still split important context |\n",
    "| Semantic chunking       | Splitting text in a way that groups sentences based on the semantic similarity of their embeddings. Embeddings of high semantic similarity are closer together than those of low semantic similarity. This results in context-aware chunks. | Context-aware, Preserves semantic meaning                            | Requires embedding computation, More complex to implement           |\n",
    "| Document-based chunking | Splitting based on document structure. This splitter can utilize Markdown text, images, tables and even Python code classes and functions as ways of determining structure. In doing so, large documents can be chunked and processed by the LLM. | Preserves document structure, Versatile                              | May require custom logic for different document types               |\n",
    "| Agentic chunking        | Leverages agentic AI by allowing the LLM to determine appropriate document splitting based on semantic meaning as well as content structure such as paragraph types, section headings, step-by-step instructions and more. This chunker is experimental and attempts to simulate human reasoning when processing long documents. | Highly context-aware, Simulates human reasoning                      | Experimental, May be inconsistent, Computationally expensive         |\n",
    "\n",
    "The choice of the chunking strategy is an often overlooked but extremely important part of building a RAG system. The right strategy can significantly improve the quality of the generated responses, while the wrong strategy can lead to irrelevant or incorrect information being passed to the model. The best strategy depends on the nature of the documents in the knowledge base and the requirements of the application. Generally speaking, you will want to start off with something simple like fixed-size chunking and then experiment with more advanced strategies to see if they improve the performance of the system.\n",
    "\n",
    "\n",
    "### Retrieval system\n",
    "\n",
    "<p align=\"center\">\n",
    "<img src=\"media/semantic_search.png\" alt=\"LLM\" width=\"800\"/> <br>\n",
    "Image from <a href=\"https://blog.devgenius.io\">Dev Genius</a>'s <i><a href=https://blog.devgenius.io/building-a-semantic-search-engine-for-internal-documentation-a-comprehensive-guide-270efa9a30a0\">Building a Semantic Search Engine for Internal Documentation</a></i>\" by <a href=\"https://www.linkedin.com/in/timothyurista/\">Tim Urista</a><br> Copyright © 2024. All rights reserved.\n",
    "</p>\n",
    "\n",
    "Remember that RAG is an abbreviation for \"*Retrieval*-Augmented Generation.\" A retrieval system is a key component of RAG that searches for relevant information in a knowledge base. In the prior section we learned how we can use embeddings to represent documents in a high-dimensional space. The retrieval system uses these embeddings to find the most relevant documents to a given query. The system then passes this information to the model, which uses it to generate a response.\n",
    "\n",
    "In practie, we\n",
    "\n",
    "1. **Receive a query**: The retrieval system receives a query from the user.\n",
    "2. **Embed the query**: The system converts the query into an embedding using the same embedding model used to encode the documents.\n",
    "3. **Search for relevant documents**: The system compares the query embedding to the embeddings of the chunked documents in the knowledge base to find the most similar document chunks.\n",
    "4. **Retrieve the top k document chunks**: The system retrieves the top k most similar documents and passes them to the model.\n",
    "\n",
    "Retrieval systems are fundamental to many AI applications, efficiently identifying relevant information from large datasets. These systems accommodate various data formats:\n",
    "\n",
    "- Unstructured text (e.g., documents) is often stored in vector stores or lexical search indexes.\n",
    "- Structured data is typically housed in relational or graph databases with defined schemas.\n",
    "\n",
    "Despite the growing diversity in data formats, modern AI applications increasingly aim to make all types of data accessible through natural language interfaces. Models play a crucial role in this process by translating natural language queries into formats compatible with the underlying search index or database. This translation enables more intuitive and flexible interactions with complex data structures. There is of course much more to this topic, but this is a high-level overview of how retrieval systems work in RAG. We encourage you to check out [this guide of retrieval systems](https://python.langchain.com/docs/concepts/retrieval/) for a more in-depth look at the topic.\n",
    "\n",
    "#### Using external knowledge\n",
    "\n",
    "<p align=\"center\">\n",
    "<img src=\"media/simple_rag.webp\" alt=\"LLM\" width=\"800\"/> <br>\n",
    "Image from <a href=\"https://www.clarifai.com/\">ClarifAI</a>'s <i><a href=https://www.clarifai.com/blog/what-is-rag-retrieval-augmented-generation\">Building a Semantic Search Engine for Internal Documentation</a></i>\" by <a href=\"https://kelk.ai/\">Ian Kelk</a><br> Copyright © 2025. All rights reserved.\n",
    "</p>\n",
    "\n",
    "With our document embeddings and our a retrieval system in place, we need to pass knowledge from this system to the model. \n",
    "A RAG pipeline typically achieves this following these steps:\n",
    "1. Receive an input query.\n",
    "2. Use the retrieval system to search for relevant information based on the query.\n",
    "3. Incorporate the retrieved information into the prompt sent to the LLM.\n",
    "4. Generate a response that leverages the retrieved context.\n"
   ]
  },
  {
   "cell_type": "markdown",
   "metadata": {},
   "source": [
    "# Simple RAG system"
   ]
  },
  {
   "cell_type": "code",
   "execution_count": 1,
   "metadata": {},
   "outputs": [],
   "source": [
    "from typing import Literal, Any\n",
    "from copy import deepcopy\n",
    "\n",
    "from typing_extensions import TypedDict\n",
    "import matplotlib.pyplot as plt\n",
    "import numpy as np\n",
    "from decouple import config\n",
    "from pydantic import BaseModel, Field\n",
    "from IPython.display import Image, display\n",
    "from tqdm import tqdm\n",
    "\n",
    "from langchain_chroma import Chroma\n",
    "from langchain_core.documents import Document\n",
    "from langchain_community.document_loaders import TextLoader\n",
    "from langchain_text_splitters.markdown import MarkdownHeaderTextSplitter\n",
    "from langchain.prompts import PromptTemplate\n",
    "from langchain_ibm import WatsonxEmbeddings\n",
    "from langchain_ibm import WatsonxLLM\n",
    "from langgraph.graph import START, StateGraph\n",
    "from ibm_watsonx_ai.metanames import GenTextParamsMetaNames as GenParams\n",
    "\n",
    "import litellm\n",
    "from litellm import completion\n",
    "import instructor\n",
    "from instructor import Mode"
   ]
  },
  {
   "cell_type": "markdown",
   "metadata": {},
   "source": [
    "#### Retrieve secrets\n",
    "\n",
    "**NOTE**: To load secrets from a `.env` file like this, you need to make sure that you run python from the same directory as the `.env` file. If you are running this notebook in a different directory, you will need to adjust `Jupyter: Notebook File Root` in your VSC settings to the directory where the `.env` file is located, i.e. `${workspaceFolder}`. See this [StackOverflow post](https://stackoverflow.com/a/59595999) for more information."
   ]
  },
  {
   "cell_type": "code",
   "execution_count": 2,
   "metadata": {},
   "outputs": [],
   "source": [
    "WX_API_KEY = config(\"WX_API_KEY\")\n",
    "WX_PROJECT_ID = config(\"WX_PROJECT_ID\")\n",
    "WX_API_URL = \"https://us-south.ml.cloud.ibm.com\"\n"
   ]
  },
  {
   "cell_type": "markdown",
   "metadata": {},
   "source": [
    "#### Authenticate and initialize LLM\n",
    "\n",
    "As in Mandatory Assignment 2, we need to authenticate with our API KEY and PROJECT ID\n",
    "\n",
    "In contrast to MA2, we are now using `LangChain` to connect to WatsonX, instead of using IBM´s own WatsonXAI API."
   ]
  },
  {
   "cell_type": "code",
   "execution_count": 3,
   "metadata": {},
   "outputs": [],
   "source": [
    "llm = WatsonxLLM(\n",
    "\n",
    "        model_id= \"ibm/granite-3-8b-instruct\",\n",
    "        url=WX_API_URL,\n",
    "        apikey=WX_API_KEY,\n",
    "        project_id=WX_PROJECT_ID,\n",
    "\n",
    "        params={\n",
    "            GenParams.DECODING_METHOD: \"greedy\",\n",
    "            GenParams.TEMPERATURE: 0,\n",
    "            GenParams.MIN_NEW_TOKENS: 5,\n",
    "            GenParams.MAX_NEW_TOKENS: 1_000,\n",
    "            GenParams.REPETITION_PENALTY:1.2\n",
    "        }\n",
    "\n",
    ")"
   ]
  },
  {
   "cell_type": "markdown",
   "metadata": {},
   "source": [
    "#### Use LLM"
   ]
  },
  {
   "cell_type": "markdown",
   "metadata": {},
   "source": [
    "Generate text using the LLM"
   ]
  },
  {
   "cell_type": "code",
   "execution_count": 4,
   "metadata": {},
   "outputs": [
    {
     "name": "stdout",
     "output_type": "stream",
     "text": [
      "<class 'langchain_core.outputs.llm_result.LLMResult'>\n",
      "generations=[[Generation(text=\"\\nI'm an artificial intelligence and don't have feelings, but I'm here to help you. How can I assist you today?\", generation_info={'finish_reason': 'eos_token'})]] llm_output={'token_usage': {'generated_token_count': 31, 'input_token_count': 5}, 'model_id': 'ibm/granite-3-8b-instruct', 'deployment_id': None} run=[RunInfo(run_id=UUID('1c6c0739-f912-4a57-a973-a4c8013dca71'))] type='LLMResult'\n"
     ]
    }
   ],
   "source": [
    "llm_result = llm.generate([\"Hi how are you?\"])\n",
    "\n",
    "print(type(llm_result))\n",
    "print(llm_result)\n"
   ]
  },
  {
   "cell_type": "markdown",
   "metadata": {},
   "source": [
    "If you only want the text and not the metadata, you can use the `invoke` method. This method takes the same arguments as `generate` but returns only the generated text."
   ]
  },
  {
   "cell_type": "code",
   "execution_count": 5,
   "metadata": {},
   "outputs": [
    {
     "name": "stdout",
     "output_type": "stream",
     "text": [
      "<class 'str'>\n",
      "\n",
      "I'm an artificial intelligence and don't have feelings, but I'm here to help you. How can I assist you today?\n"
     ]
    }
   ],
   "source": [
    "llm_result = llm.invoke(\"Hi how are you?\")\n",
    "\n",
    "print(type(llm_result))\n",
    "print(llm_result)"
   ]
  },
  {
   "cell_type": "markdown",
   "metadata": {},
   "source": [
    "Or stream text using the LLM"
   ]
  },
  {
   "cell_type": "code",
   "execution_count": 6,
   "metadata": {},
   "outputs": [
    {
     "name": "stdout",
     "output_type": "stream",
     "text": [
      "\n",
      "\n",
      "My favorite breed of dog is the Golden Retriever, a large-sized gun dog originating from Scotland in the 19th century. They were initially bred for retrieving game such as waterfowl during hunting expeditions due to their exceptional intelligence, strength, and gentle temperament. Over time, they have become popular family pets because of these same qualities that make them excellent working dogs. Here are some reasons I adore this magnificent breed:\n",
      "\n",
      "1) Affectionate Nature: Golden Retrievers are known for being incredibly affectionate towards humans – both children and adults alike. Their friendly demeanor makes them wonderful companions who thrive on human interaction and love nothing more than spending quality time with their families. This warm personality has earned them the reputation as one of the most loving and devoted dog breeds around.\n",
      "\n",
      "2) Intelligence & Trainability: With an average IQ ranking among top dog breeds, Goldens excel at learning new commands quickly and easily. Their eagerness to please combined with high adaptability allows them to fit seamlessly into various living situations - whether it's city apartments or rural farms. Training sessions can be fun rather than challenging since they pick up tricks rapidly while maintaining enthusiasm throughout.\n",
      "\n",
      "3) Versatility: Beyond just being great household pets, Golden Retrievers possess remarkable versatility which sets them apart from many other breeds. Besides serving as therapy animals, guide dogs (for visually impaired individuals), search-and-rescue partners, assistance dogs for people with disabilities; they also participate actively in competitive obedience trials, agility courses, tracking tests, flyball tournaments, dock diving events etc., showcasing their physical prowess alongside mental acuity.\n",
      "\n",
      "4) Healthy Lifestyle Companionship: Active by nature, Golden Retrievers require regular exercise but relish outdoor activities like swimming, running, playing fetch, or simply going for long walks together. Sharing active moments not only keeps you physically fit but fosters strong bonds between owner and pet too! Moreover, their robust health profile contributes positively toward longevity compared to several smaller breeds prone to genetic issues.\n",
      "\n",
      "5) Gorgeous Coat: Lastly, let us appreciate the stunning golden coats synonymous with this regal breed. Soft yet dense undercoats provide insulation against harsh weather conditions whereas outer guard hairs repel moisture making them ideal for cold climates. Regular brushing maintains shedding control preventing excessive hair loss inside homes. Plus, there’s something undeniably charming about those expressive brown eyes peering out beneath luxurious locks!\n",
      "\n",
      "In conclusion, my admiration for Golden Retrievers stems from their unparalleled combination of loyalty, brains, athleticism, good looks, and overall suitability across different roles within our lives. Whether seeking a faithful friend, dedicated service partner, or dynamic companion for shared adventures, few breeds match the alluring appeal exuded effortlessly by majestic Golden Retrievers."
     ]
    }
   ],
   "source": [
    "for chunk in llm.stream(\n",
    "    \"Describe your favorite breed of dog and why it is your favorite.\"\n",
    "):\n",
    "    print(chunk, end=\"\")"
   ]
  },
  {
   "cell_type": "markdown",
   "metadata": {},
   "source": [
    "#### Load documents\n",
    "\n",
    "We can use `langchain-community`'s `TextLoader` to load text documents from our local system. This is a convenient way to quickly build a knowledge base. However, we could also use `WebBaseLoader` to load directly from online sources. You can see all the available types of loaders [in the LangChain documentation here](https://python.langchain.com/docs/integrations/document_loaders/)."
   ]
  },
  {
   "cell_type": "code",
   "execution_count": 7,
   "metadata": {},
   "outputs": [
    {
     "data": {
      "text/plain": [
       "{'source': 'data/madeup_company.md'}"
      ]
     },
     "execution_count": 7,
     "metadata": {},
     "output_type": "execute_result"
    }
   ],
   "source": [
    "document = TextLoader(\"data/madeup_company.md\").load()[0]\n",
    "document.metadata"
   ]
  },
  {
   "cell_type": "markdown",
   "metadata": {},
   "source": [
    "#### Split documents\n",
    "\n",
    "Since we are dealing with a markdown file, we can use `MarkdownHeaderTextSplitter`. This splitter will split the document into chunks based on the headers in the markdown file. This is a good way to maintain the structure of the document and ensure that the chunks are coherent."
   ]
  },
  {
   "cell_type": "code",
   "execution_count": 8,
   "metadata": {},
   "outputs": [],
   "source": [
    "headers_to_split_on = [(\"#\", \"Header 1\"), (\"##\", \"Header 2\"), (\"###\", \"Header 3\"), (\"####\", \"Header 4\")]\n",
    "text_splitter = MarkdownHeaderTextSplitter(headers_to_split_on=headers_to_split_on)\n",
    "chunks = text_splitter.split_text(document.page_content)"
   ]
  },
  {
   "cell_type": "code",
   "execution_count": 9,
   "metadata": {},
   "outputs": [
    {
     "data": {
      "text/plain": [
       "[Document(metadata={'Header 1': 'About MadeUpCompany'}, page_content='MadeUpCompany is a pioneering technology firm founded in 2010, specializing in cloud computing, data analytics, and machine learning. Headquartered in San Francisco, California, we have a global presence with satellite offices in New York, London, and Tokyo. Our mission is to empower businesses and individuals with cutting-edge technology that enhances efficiency, scalability, and innovation.  \\nWith a diverse team of experts from various industries—including AI research, cybersecurity, and enterprise software development—we push the boundaries of what’s possible. Our commitment to continuous improvement, security, and customer success has earned us recognition as a leader in the tech space.'),\n",
       " Document(metadata={'Header 1': 'About MadeUpCompany', 'Header 2': 'Our Values'}, page_content=\"At MadeUpCompany, we believe in:  \\n- Innovation – Continuously developing and refining solutions that meet the evolving needs of businesses.\\n- Security & Privacy – Implementing world-class security protocols to protect our customers' data.\\n- Customer-Centric Approach – Designing intuitive, powerful tools that make complex technology accessible.\\n- Sustainability – Ensuring our infrastructure is energy-efficient and environmentally responsible.\"),\n",
       " Document(metadata={'Header 1': 'About MadeUpCompany', 'Header 2': 'Products and Services'}, page_content='We offer a comprehensive suite of cloud-based solutions that streamline operations, enhance decision-making, and power AI-driven insights. Our core products include CloudMate, DataWiz, and Custom AI Solutions.'),\n",
       " Document(metadata={'Header 1': 'About MadeUpCompany', 'Header 2': 'Products and Services', 'Header 3': 'CloudMate – Secure and Scalable Cloud Storage'}, page_content='CloudMate is our flagship cloud storage solution, designed for businesses of all sizes. Features include:\\n- ✅ Seamless data migration with automated backups\\n- ✅ Military-grade encryption and multi-factor authentication\\n- ✅ Role-based access control for enterprise security\\n- ✅ AI-powered file organization and search capabilities'),\n",
       " Document(metadata={'Header 1': 'About MadeUpCompany', 'Header 2': 'Products and Services', 'Header 3': 'DataWiz – Advanced Data Analytics'}, page_content='DataWiz transforms raw data into actionable insights using cutting-edge machine learning models. Features include:\\n- 📊 Predictive analytics for demand forecasting and customer behavior modeling\\n- 📊 Real-time dashboards with customizable reporting\\n- 📊 API integrations with popular business intelligence tools\\n- 📊 Automated anomaly detection for fraud prevention and operational efficiency'),\n",
       " Document(metadata={'Header 1': 'About MadeUpCompany', 'Header 2': 'Products and Services', 'Header 3': 'Custom AI Solutions'}, page_content='We provide tailored machine learning models to optimize business workflows, automate repetitive tasks, and enhance decision-making. From NLP-based chatbots to AI-driven recommendation engines, we develop bespoke AI solutions for various industries.'),\n",
       " Document(metadata={'Header 1': 'About MadeUpCompany', 'Header 2': 'Pricing'}, page_content='We offer flexible pricing plans to meet the needs of individuals, small businesses, and large enterprises.'),\n",
       " Document(metadata={'Header 1': 'About MadeUpCompany', 'Header 2': 'Pricing', 'Header 3': 'CloudMate Plans'}, page_content='Our secure and scalable cloud storage service, CloudMate, is available in the following plans:\\n- Basic: $9.99/month – 100GB storage, essential security features\\n- Professional: $29.99/month – 1TB storage, enhanced security, priority support\\n- Enterprise: Custom pricing – Unlimited storage, advanced compliance tools, dedicated account manager'),\n",
       " Document(metadata={'Header 1': 'About MadeUpCompany', 'Header 2': 'Pricing', 'Header 3': 'DataWiz Plans'}, page_content='Our advanced data analytics platform, DataWiz, offers the following plans:\\n- Starter: $49/month – Basic analytics, limited AI insights\\n- Growth: $99/month – Advanced machine learning models, predictive analytics\\n- Enterprise: Custom pricing – Full AI customization, dedicated data scientists\\n- Custom AI Solutions – Pricing is determined based on project scope and complexity. Contact our sales team for a personalized quote.'),\n",
       " Document(metadata={'Header 1': 'About MadeUpCompany', 'Header 2': 'Technical Support'}, page_content='Our award-winning customer support team is available 24/7 to assist with any technical issues. Support channels include:\\n- 📞 Toll-free phone support\\n- 💬 Live chat assistance\\n- 📧 Email support with guaranteed response within 6 hours\\n- 📚 Comprehensive FAQ and user guides available on our website\\n- 👥 Community forum for peer-to-peer discussions and best practices  \\nMost technical issues are resolved within 24 hours, ensuring minimal downtime for your business.'),\n",
       " Document(metadata={'Header 1': 'About MadeUpCompany', 'Header 2': 'Security and Compliance'}, page_content='Security is at the heart of everything we do. MadeUpCompany adheres to the highest security and regulatory standards, including:  \\n- 🔒 GDPR, HIPAA, and SOC 2 Compliance – Ensuring global security and data protection compliance.\\n- 🔒 End-to-End Encryption – Protecting data in transit and at rest with AES-256 encryption.\\n- 🔒 Zero Trust Architecture – Implementing rigorous access control and continuous authentication.\\n- 🔒 DDoS Protection & Advanced Threat Detection – Safeguarding against cyber threats with AI-powered monitoring.  \\nOur team continuously updates security measures to stay ahead of evolving cyber risks.'),\n",
       " Document(metadata={'Header 1': 'About MadeUpCompany', 'Header 2': 'Account Management'}, page_content='Managing your MadeUpCompany services is simple and intuitive via our online portal. Customers can:  \\n- ✔️ Upgrade or downgrade plans at any time\\n- ✔️ Access billing history and download invoices\\n- ✔️ Manage multiple users and set role-based permissions\\n- ✔️ Track storage and analytics usage in real time  \\nFor enterprise accounts, we offer dedicated account managers who provide strategic guidance and personalized support.'),\n",
       " Document(metadata={'Header 1': 'About MadeUpCompany', 'Header 2': 'Refund and Cancellation Policy'}, page_content=\"We stand by the quality of our services and offer a 30-day money-back guarantee on all plans.  \\nIf you're not satisfied, you can request a full refund within the first 30 days.\\nAfter 30 days, you may cancel your subscription at any time, and we’ll issue a prorated refund based on your remaining subscription period.\\nEnterprise contracts include a flexible exit clause, ensuring fair terms for long-term clients.\\nUpcoming Features\"),\n",
       " Document(metadata={'Header 1': 'About MadeUpCompany', 'Header 2': 'Roadmap'}, page_content=\"We are constantly evolving and introducing new features based on customer feedback. Here’s what’s coming soon:  \\n- 🚀 AI-Driven Data Insights – DataWiz will introduce automated trend forecasting powered by deep learning.\\n- 🚀 Collaboration Tools for CloudMate – Enhanced real-time document editing and team workspaces for seamless collaboration.\\n- 🚀 Zero-Knowledge Encryption – An optional feature for businesses requiring absolute data confidentiality.  \\nWe value our customers' input and prioritize updates that deliver the most impact.\"),\n",
       " Document(metadata={'Header 1': 'About MadeUpCompany', 'Header 2': 'Why Choose Us?'}, page_content=\"- ✔️ Over 1 million satisfied users worldwide\\n- ✔️ Trusted by Fortune 500 companies\\n- ✔️ Featured in TechCrunch, Forbes, and Wired as a top innovator\\n- ✔️ Unmatched customer support and security  \\nWhether you're a startup, an enterprise, or an individual user, MadeUpCompany provides the tools you need to thrive in the digital age.\"),\n",
       " Document(metadata={'Header 1': 'About MadeUpCompany', 'Header 2': 'Contact'}, page_content='For more information, visit our website at www.madeupcompany.com or contact our sales team at sales@madeupcompany.com. 🚀')]"
      ]
     },
     "execution_count": 9,
     "metadata": {},
     "output_type": "execute_result"
    }
   ],
   "source": [
    "chunks"
   ]
  },
  {
   "cell_type": "markdown",
   "metadata": {},
   "source": [
    "#### Preprocess chunks\n",
    "\n",
    "If we looks at the metadata for each chunk, we see that it is neatly split into header types (Header 1, header 2, etc.) and the text content. This is useful! We can write a function to add the header type(s) to the text content itself, so that the model can use this information to generate better responses."
   ]
  },
  {
   "cell_type": "code",
   "execution_count": 10,
   "metadata": {},
   "outputs": [],
   "source": [
    "def update_documents_with_headers(chunks):\n",
    "    \"\"\"\n",
    "    Creates a new list of Document objects with page_content prepended with headers\n",
    "    in [Header1/Header2/Header3]: format\n",
    "    \n",
    "    Returns new objects rather than modifying the original chunks\n",
    "    \"\"\"\n",
    "    updated_chunks = []\n",
    "    \n",
    "    for doc in chunks:\n",
    "        # Create a deep copy of the document to avoid modifying the original\n",
    "        new_doc = deepcopy(doc)\n",
    "        \n",
    "        # Get all headers that exist in metadata\n",
    "        headers = []\n",
    "        for i in range(1, 4):\n",
    "            key = f'Header {i}'\n",
    "            if key in new_doc.metadata:\n",
    "                headers.append(new_doc.metadata[key])\n",
    "        \n",
    "        # Create the header prefix and update page_content\n",
    "        if headers:\n",
    "            prefix = f\"[{'/'.join(headers)}]: \"\n",
    "            new_doc.page_content = prefix + \"\\n\" + new_doc.page_content\n",
    "        \n",
    "        updated_chunks.append(new_doc)\n",
    "    \n",
    "    return updated_chunks\n",
    "\n",
    "\n",
    "docs = update_documents_with_headers(chunks)"
   ]
  },
  {
   "cell_type": "code",
   "execution_count": 11,
   "metadata": {},
   "outputs": [
    {
     "name": "stdout",
     "output_type": "stream",
     "text": [
      "[About MadeUpCompany]: \n",
      "MadeUpCompany is a pioneering technology firm founded in 2010, specializing in cloud computing, data analytics, and machine learning. Headquartered in San Francisco, California, we have a global presence with satellite offices in New York, London, and Tokyo. Our mission is to empower businesses and individuals with cutting-edge technology that enhances efficiency, scalability, and innovation.  \n",
      "With a diverse team of experts from various industries—including AI research, cybersecurity, and enterprise software development—we push the boundaries of what’s possible. Our commitment to continuous improvement, security, and customer success has earned us recognition as a leader in the tech space.\n",
      "\n",
      "[About MadeUpCompany/Our Values]: \n",
      "At MadeUpCompany, we believe in:  \n",
      "- Innovation – Continuously developing and refining solutions that meet the evolving needs of businesses.\n",
      "- Security & Privacy – Implementing world-class security protocols to protect our customers' data.\n",
      "- Customer-Centric Approach – Designing intuitive, powerful tools that make complex technology accessible.\n",
      "- Sustainability – Ensuring our infrastructure is energy-efficient and environmentally responsible.\n",
      "\n",
      "[About MadeUpCompany/Products and Services]: \n",
      "We offer a comprehensive suite of cloud-based solutions that streamline operations, enhance decision-making, and power AI-driven insights. Our core products include CloudMate, DataWiz, and Custom AI Solutions.\n",
      "\n",
      "[About MadeUpCompany/Products and Services/CloudMate – Secure and Scalable Cloud Storage]: \n",
      "CloudMate is our flagship cloud storage solution, designed for businesses of all sizes. Features include:\n",
      "- ✅ Seamless data migration with automated backups\n",
      "- ✅ Military-grade encryption and multi-factor authentication\n",
      "- ✅ Role-based access control for enterprise security\n",
      "- ✅ AI-powered file organization and search capabilities\n",
      "\n",
      "[About MadeUpCompany/Products and Services/DataWiz – Advanced Data Analytics]: \n",
      "DataWiz transforms raw data into actionable insights using cutting-edge machine learning models. Features include:\n",
      "- 📊 Predictive analytics for demand forecasting and customer behavior modeling\n",
      "- 📊 Real-time dashboards with customizable reporting\n",
      "- 📊 API integrations with popular business intelligence tools\n",
      "- 📊 Automated anomaly detection for fraud prevention and operational efficiency\n",
      "\n",
      "[About MadeUpCompany/Products and Services/Custom AI Solutions]: \n",
      "We provide tailored machine learning models to optimize business workflows, automate repetitive tasks, and enhance decision-making. From NLP-based chatbots to AI-driven recommendation engines, we develop bespoke AI solutions for various industries.\n",
      "\n",
      "[About MadeUpCompany/Pricing]: \n",
      "We offer flexible pricing plans to meet the needs of individuals, small businesses, and large enterprises.\n",
      "\n",
      "[About MadeUpCompany/Pricing/CloudMate Plans]: \n",
      "Our secure and scalable cloud storage service, CloudMate, is available in the following plans:\n",
      "- Basic: $9.99/month – 100GB storage, essential security features\n",
      "- Professional: $29.99/month – 1TB storage, enhanced security, priority support\n",
      "- Enterprise: Custom pricing – Unlimited storage, advanced compliance tools, dedicated account manager\n",
      "\n",
      "[About MadeUpCompany/Pricing/DataWiz Plans]: \n",
      "Our advanced data analytics platform, DataWiz, offers the following plans:\n",
      "- Starter: $49/month – Basic analytics, limited AI insights\n",
      "- Growth: $99/month – Advanced machine learning models, predictive analytics\n",
      "- Enterprise: Custom pricing – Full AI customization, dedicated data scientists\n",
      "- Custom AI Solutions – Pricing is determined based on project scope and complexity. Contact our sales team for a personalized quote.\n",
      "\n",
      "[About MadeUpCompany/Technical Support]: \n",
      "Our award-winning customer support team is available 24/7 to assist with any technical issues. Support channels include:\n",
      "- 📞 Toll-free phone support\n",
      "- 💬 Live chat assistance\n",
      "- 📧 Email support with guaranteed response within 6 hours\n",
      "- 📚 Comprehensive FAQ and user guides available on our website\n",
      "- 👥 Community forum for peer-to-peer discussions and best practices  \n",
      "Most technical issues are resolved within 24 hours, ensuring minimal downtime for your business.\n",
      "\n",
      "[About MadeUpCompany/Security and Compliance]: \n",
      "Security is at the heart of everything we do. MadeUpCompany adheres to the highest security and regulatory standards, including:  \n",
      "- 🔒 GDPR, HIPAA, and SOC 2 Compliance – Ensuring global security and data protection compliance.\n",
      "- 🔒 End-to-End Encryption – Protecting data in transit and at rest with AES-256 encryption.\n",
      "- 🔒 Zero Trust Architecture – Implementing rigorous access control and continuous authentication.\n",
      "- 🔒 DDoS Protection & Advanced Threat Detection – Safeguarding against cyber threats with AI-powered monitoring.  \n",
      "Our team continuously updates security measures to stay ahead of evolving cyber risks.\n",
      "\n",
      "[About MadeUpCompany/Account Management]: \n",
      "Managing your MadeUpCompany services is simple and intuitive via our online portal. Customers can:  \n",
      "- ✔️ Upgrade or downgrade plans at any time\n",
      "- ✔️ Access billing history and download invoices\n",
      "- ✔️ Manage multiple users and set role-based permissions\n",
      "- ✔️ Track storage and analytics usage in real time  \n",
      "For enterprise accounts, we offer dedicated account managers who provide strategic guidance and personalized support.\n",
      "\n",
      "[About MadeUpCompany/Refund and Cancellation Policy]: \n",
      "We stand by the quality of our services and offer a 30-day money-back guarantee on all plans.  \n",
      "If you're not satisfied, you can request a full refund within the first 30 days.\n",
      "After 30 days, you may cancel your subscription at any time, and we’ll issue a prorated refund based on your remaining subscription period.\n",
      "Enterprise contracts include a flexible exit clause, ensuring fair terms for long-term clients.\n",
      "Upcoming Features\n",
      "\n",
      "[About MadeUpCompany/Roadmap]: \n",
      "We are constantly evolving and introducing new features based on customer feedback. Here’s what’s coming soon:  \n",
      "- 🚀 AI-Driven Data Insights – DataWiz will introduce automated trend forecasting powered by deep learning.\n",
      "- 🚀 Collaboration Tools for CloudMate – Enhanced real-time document editing and team workspaces for seamless collaboration.\n",
      "- 🚀 Zero-Knowledge Encryption – An optional feature for businesses requiring absolute data confidentiality.  \n",
      "We value our customers' input and prioritize updates that deliver the most impact.\n",
      "\n",
      "[About MadeUpCompany/Why Choose Us?]: \n",
      "- ✔️ Over 1 million satisfied users worldwide\n",
      "- ✔️ Trusted by Fortune 500 companies\n",
      "- ✔️ Featured in TechCrunch, Forbes, and Wired as a top innovator\n",
      "- ✔️ Unmatched customer support and security  \n",
      "Whether you're a startup, an enterprise, or an individual user, MadeUpCompany provides the tools you need to thrive in the digital age.\n",
      "\n",
      "[About MadeUpCompany/Contact]: \n",
      "For more information, visit our website at www.madeupcompany.com or contact our sales team at sales@madeupcompany.com. 🚀\n",
      "\n"
     ]
    }
   ],
   "source": [
    "for doc in docs:\n",
    "    print(doc.page_content, end=\"\\n\\n\")"
   ]
  },
  {
   "cell_type": "markdown",
   "metadata": {},
   "source": [
    "#### Initialize the embedding model\n",
    "\n",
    "Note: The [supported embeddings models in WatsonX.ai](https://dataplatform.cloud.ibm.com/docs/content/wsj/analyze-data/fm-models-embed.html?context=wx) are\n",
    "\n",
    "- `granite-embedding-107m-multilingual`\n",
    "- `granite-embedding-278m-multilingual`\n",
    "- `slate-30m-english-rtrvr-v2`\n",
    "- `slate-30m-english-rtrvr`\n",
    "- `slate-125m-english-rtrvr-v2`\n",
    "- `slate-125m-english-rtrvr`\n",
    "- `all-minilm-l6-v2`\n",
    "- `all-minilm-l12-v2`\n",
    "- `multilingual-e5-large`"
   ]
  },
  {
   "cell_type": "code",
   "execution_count": 12,
   "metadata": {},
   "outputs": [],
   "source": [
    "embed_params = {}\n",
    "\n",
    "watsonx_embedding = WatsonxEmbeddings(\n",
    "    model_id=\"ibm/granite-embedding-278m-multilingual\",\n",
    "    url=WX_API_URL,\n",
    "    project_id=WX_PROJECT_ID,\n",
    "    apikey=WX_API_KEY,\n",
    "    params=embed_params,\n",
    ")"
   ]
  },
  {
   "cell_type": "markdown",
   "metadata": {},
   "source": [
    "#### Create vector index"
   ]
  },
  {
   "cell_type": "code",
   "execution_count": 13,
   "metadata": {},
   "outputs": [],
   "source": [
    "local_vector_db = Chroma.from_documents(\n",
    "    collection_name=\"my_collection\",\n",
    "    embedding=watsonx_embedding,\n",
    "    persist_directory=\"my_vector_db\", # This will save the vector database to disk! Delete it if you want to start fresh.\n",
    "    documents=docs,\n",
    "    \n",
    ")"
   ]
  },
  {
   "cell_type": "markdown",
   "metadata": {},
   "source": [
    "#### Retrieve documents with semantic search\n",
    "\n",
    "In LangChain we use `VectorStoreRetriever` as a sort of wrapper around the vector index. This retriever is used to search for documents based on their embeddings. We could also load a retriever directly. You can see all the available types of retrievers [in the LangChain documentation here](https://python.langchain.com/docs/integrations/retrievers/)."
   ]
  },
  {
   "cell_type": "code",
   "execution_count": 14,
   "metadata": {},
   "outputs": [],
   "source": [
    "# Use the vectorstore as a retriever\n",
    "retriever = local_vector_db.as_retriever(\n",
    "    search_type=\"similarity\",\n",
    "    search_kwargs={\n",
    "        \"k\": 3,\n",
    "    }\n",
    ")"
   ]
  },
  {
   "cell_type": "code",
   "execution_count": 15,
   "metadata": {},
   "outputs": [
    {
     "name": "stdout",
     "output_type": "stream",
     "text": [
      "################################################################################\n",
      "ID: e5c59f3d-691e-4301-9c04-a9faa8e884ba\n",
      "Content: [About MadeUpCompany/Refund and Cancellation Policy]: \n",
      "We stand by the quality of our services and offer a 30-day money-back guarantee on all plans.  \n",
      "If you're not satisfied, you can request a full refund within the first 30 days.\n",
      "After 30 days, you may cancel your subscription at any time, and we’ll issue a prorated refund based on your remaining subscription period.\n",
      "Enterprise contracts include a flexible exit clause, ensuring fair terms for long-term clients.\n",
      "Upcoming Features\n",
      "\n",
      "################################################################################\n",
      "ID: ba0bb89a-90a5-466a-960d-04f9c1d4466a\n",
      "Content: [About MadeUpCompany/Pricing/CloudMate Plans]: \n",
      "Our secure and scalable cloud storage service, CloudMate, is available in the following plans:\n",
      "- Basic: $9.99/month – 100GB storage, essential security features\n",
      "- Professional: $29.99/month – 1TB storage, enhanced security, priority support\n",
      "- Enterprise: Custom pricing – Unlimited storage, advanced compliance tools, dedicated account manager\n",
      "\n",
      "################################################################################\n",
      "ID: fe3c022f-7d8f-4804-9825-54a92c96e43b\n",
      "Content: [About MadeUpCompany/Technical Support]: \n",
      "Our award-winning customer support team is available 24/7 to assist with any technical issues. Support channels include:\n",
      "- 📞 Toll-free phone support\n",
      "- 💬 Live chat assistance\n",
      "- 📧 Email support with guaranteed response within 6 hours\n",
      "- 📚 Comprehensive FAQ and user guides available on our website\n",
      "- 👥 Community forum for peer-to-peer discussions and best practices  \n",
      "Most technical issues are resolved within 24 hours, ensuring minimal downtime for your busine\n",
      "\n"
     ]
    }
   ],
   "source": [
    "\n",
    "# Retrieve the most similar text\n",
    "retrieved_documents = retriever.invoke(\"Do you have a 30-day money-back guarantee?\")\n",
    "\n",
    "for document in retrieved_documents:\n",
    "    print(f\"{'#' * 80}\\nID: {document.id}\")\n",
    "    first_n_of_content = document.page_content[:500].replace('\\n\\n', ' ')\n",
    "    print(f\"Content: {first_n_of_content}\\n\")\n"
   ]
  },
  {
   "cell_type": "markdown",
   "metadata": {},
   "source": [
    "#### Create a RAG prompt template"
   ]
  },
  {
   "cell_type": "code",
   "execution_count": 16,
   "metadata": {},
   "outputs": [],
   "source": [
    "template = \"\"\"You are an assistant for question-answering tasks. Use the following pieces of retrieved context to answer the question. If you don't know the answer, just say that you don't know. Use three sentences maximum and keep the answer concise.\n",
    "\n",
    "Question:\n",
    "{question}\n",
    "\n",
    "Context: \n",
    "{context} \n",
    "\n",
    "Answer:\n",
    "\"\"\"\n",
    "\n",
    "prompt = PromptTemplate.from_template(template)"
   ]
  },
  {
   "cell_type": "markdown",
   "metadata": {},
   "source": [
    "As an example, we can fill this with our question (our query) and our context (The retrieved documents). This is a simple example, but you can create more complex prompts by combining the query and context in different ways."
   ]
  },
  {
   "cell_type": "code",
   "execution_count": 17,
   "metadata": {},
   "outputs": [
    {
     "data": {
      "text/plain": [
       "StringPromptValue(text=\"You are an assistant for question-answering tasks. Use the following pieces of retrieved context to answer the question. If you don't know the answer, just say that you don't know. Use three sentences maximum and keep the answer concise.\\n\\nQuestion:\\nWhat is CloudMate?\\n\\nContext: \\n[About MadeUpCompany/Refund and Cancellation Policy]: \\nWe stand by the quality of our services and offer a 30-day money-back guarantee on all plans.  \\nIf you're not satisfied, you can request a full refund within the first 30 days.\\nAfter 30 days, you may cancel your subscription at any time, and we’ll issue a prorated refund based on your remaining subscription period.\\nEnterprise contracts include a flexible exit clause, ensuring fair terms for long-term clients.\\nUpcoming Features \\n\\nAnswer:\\n\")"
      ]
     },
     "execution_count": 17,
     "metadata": {},
     "output_type": "execute_result"
    }
   ],
   "source": [
    "prompt.invoke(\n",
    "    input={\n",
    "        \"question\": \"What is CloudMate?\",\n",
    "        \"context\": retrieved_documents[0].page_content,\n",
    "    }\n",
    ")"
   ]
  },
  {
   "cell_type": "markdown",
   "metadata": {},
   "source": [
    "#### Combining our RAG pipeline"
   ]
  },
  {
   "cell_type": "code",
   "execution_count": 18,
   "metadata": {},
   "outputs": [],
   "source": [
    "question = \"What is CloudMate?\"\n",
    "\n",
    "retrieved_docs = local_vector_db.similarity_search(question)\n",
    "docs_content = \"\\n\\n\".join(f\"Document {i+1}:\\n{doc.page_content}\" for i, doc in enumerate(retrieved_docs))\n",
    "formated_prompt = prompt.invoke({\"question\": question, \"context\": docs_content})"
   ]
  },
  {
   "cell_type": "code",
   "execution_count": 19,
   "metadata": {},
   "outputs": [
    {
     "name": "stdout",
     "output_type": "stream",
     "text": [
      "You are an assistant for question-answering tasks. Use the following pieces of retrieved context to answer the question. If you don't know the answer, just say that you don't know. Use three sentences maximum and keep the answer concise.\n",
      "\n",
      "Question:\n",
      "What is CloudMate?\n",
      "\n",
      "Context: \n",
      "Document 1:\n",
      "[About MadeUpCompany/Products and Services/CloudMate – Secure and Scalable Cloud Storage]: \n",
      "CloudMate is our flagship cloud storage solution, designed for businesses of all sizes. Features include:\n",
      "- ✅ Seamless data migration with automated backups\n",
      "- ✅ Military-grade encryption and multi-factor authentication\n",
      "- ✅ Role-based access control for enterprise security\n",
      "- ✅ AI-powered file organization and search capabilities\n",
      "\n",
      "Document 2:\n",
      "[About MadeUpCompany/Pricing/CloudMate Plans]: \n",
      "Our secure and scalable cloud storage service, CloudMate, is available in the following plans:\n",
      "- Basic: $9.99/month – 100GB storage, essential security features\n",
      "- Professional: $29.99/month – 1TB storage, enhanced security, pr\n"
     ]
    }
   ],
   "source": [
    "print(formated_prompt.to_string()[:1000])"
   ]
  },
  {
   "cell_type": "code",
   "execution_count": 20,
   "metadata": {},
   "outputs": [],
   "source": [
    "answer = llm.invoke(formated_prompt)"
   ]
  },
  {
   "cell_type": "code",
   "execution_count": 21,
   "metadata": {},
   "outputs": [
    {
     "name": "stdout",
     "output_type": "stream",
     "text": [
      "CloudMate is MadeUpCompany's flagship cloud storage solution, offering seamless data migration, military-grade encryption, role-based access control, and AI-powered file organization among its key features. It comes in different plans catering to varying business needs, ranging from basic to enterprise levels.\n"
     ]
    }
   ],
   "source": [
    "print(answer)"
   ]
  },
  {
   "cell_type": "markdown",
   "metadata": {},
   "source": [
    "#### Running the RAG pipeline\n",
    "\n",
    "So, we just ran the RAG pipeline, but LangChain offers a neat way to do this with their `LangGraph` API. We will be using LangGraph in part two of the assignment, so let´s get familiar with it.\n",
    "\n",
    "LangGraph is an extension of LangChain that allows you to build stateful, multi-actor systems using a graph-based structure. It's particularly useful for creating complex AI workflows where multiple components need to interact in a structured way. The typical pattern in LangGraph is to define nodes (functions or agents), the edges between them (which node should execute next), and conditions that determine the flow through the graph. This provides much more flexibility than linear chains while maintaining clear structure and control over the flow of information."
   ]
  },
  {
   "cell_type": "code",
   "execution_count": 22,
   "metadata": {},
   "outputs": [],
   "source": [
    "# Define state for application\n",
    "class State(TypedDict):\n",
    "    \"\"\" A langgraph state for the application \"\"\"\n",
    "    question: str\n",
    "    context: list[Document]\n",
    "    answer: str\n",
    "\n",
    "\n",
    "# Define application steps\n",
    "def retrieve(state: State):\n",
    "    \"\"\" Our retrieval step. We use our local vector database to retrieve similar documents to the question \"\"\"\n",
    "    retrieved_docs = local_vector_db.similarity_search(state[\"question\"], k=3) # NOTE: You can change k to retrieve fewer or more documents\n",
    "    return {\"context\": retrieved_docs} \n",
    "\n",
    "\n",
    "def generate(state: State):\n",
    "    \"\"\" Our generation step. We use the retrieved documents to generate an answer to the question \"\"\"\n",
    "\n",
    "    # Format the prompt\n",
    "    docs_content = \"\\n\\n\".join(doc.page_content for doc in state[\"context\"])\n",
    "    formated_prompt = prompt.invoke({\"question\": state[\"question\"], \"context\": docs_content})\n",
    "\n",
    "    # Generate the answer\n",
    "    response = llm.invoke(formated_prompt)\n",
    "    return {\"answer\": response}\n",
    "\n",
    "\n",
    "# Compile application and test\n",
    "graph_builder = StateGraph(State).add_sequence([retrieve, generate])\n",
    "graph_builder.add_edge(START, \"retrieve\") # Start at the retrieve step\n",
    "graph = graph_builder.compile() # Compile the graph"
   ]
  },
  {
   "cell_type": "code",
   "execution_count": 23,
   "metadata": {},
   "outputs": [
    {
     "data": {
      "image/png": "[encoded data removed]",
      "text/plain": [
       "<IPython.core.display.Image object>"
      ]
     },
     "metadata": {},
     "output_type": "display_data"
    }
   ],
   "source": [
    "display(Image(graph.get_graph().draw_mermaid_png()))"
   ]
  },
  {
   "cell_type": "code",
   "execution_count": 24,
   "metadata": {},
   "outputs": [
    {
     "data": {
      "text/plain": [
       "{'question': 'What is CloudMate?',\n",
       " 'context': [Document(id='c5438c82-844f-4c98-8dda-b1de43674746', metadata={'Header 1': 'About MadeUpCompany', 'Header 2': 'Products and Services', 'Header 3': 'CloudMate – Secure and Scalable Cloud Storage'}, page_content='[About MadeUpCompany/Products and Services/CloudMate – Secure and Scalable Cloud Storage]: \\nCloudMate is our flagship cloud storage solution, designed for businesses of all sizes. Features include:\\n- ✅ Seamless data migration with automated backups\\n- ✅ Military-grade encryption and multi-factor authentication\\n- ✅ Role-based access control for enterprise security\\n- ✅ AI-powered file organization and search capabilities'),\n",
       "  Document(id='ba0bb89a-90a5-466a-960d-04f9c1d4466a', metadata={'Header 1': 'About MadeUpCompany', 'Header 2': 'Pricing', 'Header 3': 'CloudMate Plans'}, page_content='[About MadeUpCompany/Pricing/CloudMate Plans]: \\nOur secure and scalable cloud storage service, CloudMate, is available in the following plans:\\n- Basic: $9.99/month – 100GB storage, essential security features\\n- Professional: $29.99/month – 1TB storage, enhanced security, priority support\\n- Enterprise: Custom pricing – Unlimited storage, advanced compliance tools, dedicated account manager'),\n",
       "  Document(id='c528aff6-4dfa-411f-9cf7-7e799843626d', metadata={'Header 1': 'About MadeUpCompany', 'Header 2': 'Products and Services'}, page_content='[About MadeUpCompany/Products and Services]: \\nWe offer a comprehensive suite of cloud-based solutions that streamline operations, enhance decision-making, and power AI-driven insights. Our core products include CloudMate, DataWiz, and Custom AI Solutions.')],\n",
       " 'answer': 'CloudMate is a flagship cloud storage solution by MadeUpCompany, offering seamless data migration, military-grade encryption, role-based access control, and AI-powered file organization across various plans tailored for businesses of different sizes.'}"
      ]
     },
     "execution_count": 24,
     "metadata": {},
     "output_type": "execute_result"
    }
   ],
   "source": [
    "response = graph.invoke({\"question\": \"What is CloudMate?\"})\n",
    "\n",
    "response"
   ]
  },
  {
   "cell_type": "markdown",
   "metadata": {},
   "source": [
    "# RAG evaluation\n",
    "\n",
    "\n",
    "We will built our own LLM-as-a-judge evaluation system for our LangGraph RAG system.\n",
    "\n",
    "We will evaluate for the following:\n",
    "\n",
    "1. Retrieval Quality (Checks if retrieved documents contain the information needed for answering)\n",
    "\n",
    "2. Answer Correctness (Ask an LLM whether the generated answer is sufficiently similar to the expected answer)\n",
    "\n",
    "3. Document Relevance (Evaluates how relevant each retrieved document is to the query)\n",
    "\n",
    "4. Hallucination Score (Identifies statements in the answer not supported by retrieved documents)"
   ]
  },
  {
   "cell_type": "markdown",
   "metadata": {},
   "source": [
    "#### Create Question-Answer pairs (Gold standard examples)"
   ]
  },
  {
   "cell_type": "code",
   "execution_count": 25,
   "metadata": {},
   "outputs": [],
   "source": [
    "sample_queries = [\n",
    "    \"When was MadeUpCompany founded and where is it headquartered?\",\n",
    "    \"What security features does CloudMate offer for enterprise customers?\",\n",
    "    \"How much does the Professional plan for CloudMate cost and what storage capacity does it include?\",\n",
    "    \"What analytics capabilities does DataWiz provide for business intelligence?\",\n",
    "    \"What compliance standards does MadeUpCompany adhere to?\",\n",
    "    \"What channels are available for technical support at MadeUpCompany?\",\n",
    "    \"What is MadeUpCompany's refund policy for the first 30 days?\",\n",
    "    \"What upcoming collaboration features is MadeUpCompany planning for CloudMate?\",\n",
    "    \"Where are MadeUpCompany's satellite offices located?\",\n",
    "    \"What four core values does MadeUpCompany believe in?\",\n",
    "    \"What professional backgrounds do MadeUpCompany's experts come from?\",\n",
    "    \"What does the Starter plan for DataWiz include and how much does it cost?\",\n",
    "    \"How quickly does MadeUpCompany promise to resolve technical issues?\",\n",
    "    \"What account management features are available through MadeUpCompany's online portal?\",\n",
    "    \"How many users does MadeUpCompany have and what publications have featured them?\",\n",
    "    \"What types of custom AI solutions does MadeUpCompany develop?\",\n",
    "    \"What encryption standard does MadeUpCompany use and where is it applied?\",\n",
    "    \"What are the specifications of the Basic plan for CloudMate?\",\n",
    "    \"What is the guaranteed response time for email support at MadeUpCompany?\",\n",
    "    \"What capabilities does DataWiz offer for fraud prevention?\",\n",
    "    \"How does MadeUpCompany's cancellation policy work after the 30-day period?\",\n",
    "    \"What machine learning capabilities will DataWiz introduce in upcoming features?\",\n",
    "    \"What pricing plan options are available for MadeUpCompany's Enterprise customers?\",\n",
    "    \"What does MadeUpCompany's sustainability value focus on?\",\n",
    "    \"How does MadeUpCompany describe its mission?\"\n",
    "]\n",
    "\n",
    "expected_responses = [\n",
    "    \"MadeUpCompany was founded in 2010 and is headquartered in San Francisco, California.\",\n",
    "    \"CloudMate offers military-grade encryption, multi-factor authentication, and role-based access control for enterprise security.\",\n",
    "    \"The Professional plan for CloudMate costs $29.99/month and includes 1TB of storage, enhanced security, and priority support.\",\n",
    "    \"DataWiz provides predictive analytics for demand forecasting and customer behavior modeling, real-time dashboards with customizable reporting, API integrations with popular business intelligence tools, and automated anomaly detection.\",\n",
    "    \"MadeUpCompany adheres to GDPR, HIPAA, and SOC 2 compliance standards for global security and data protection compliance.\",\n",
    "    \"MadeUpCompany offers toll-free phone support, live chat assistance, email support, comprehensive FAQ and user guides on their website, and a community forum for peer-to-peer discussions.\",\n",
    "    \"MadeUpCompany offers a 30-day money-back guarantee on all plans, allowing customers to request a full refund if they're not satisfied within the first 30 days.\",\n",
    "    \"MadeUpCompany is planning to introduce enhanced real-time document editing and team workspaces for seamless collaboration in CloudMate.\",\n",
    "    \"MadeUpCompany has satellite offices in New York, London, and Tokyo.\",\n",
    "    \"MadeUpCompany believes in innovation, security & privacy, a customer-centric approach, and sustainability.\",\n",
    "    \"MadeUpCompany's experts come from various industries including AI research, cybersecurity, and enterprise software development.\",\n",
    "    \"The Starter plan for DataWiz costs $49/month and includes basic analytics and limited AI insights.\",\n",
    "    \"MadeUpCompany resolves most technical issues within 24 hours, ensuring minimal downtime for businesses.\",\n",
    "    \"Through MadeUpCompany's online portal, customers can upgrade or downgrade plans, access billing history and download invoices, manage multiple users and set role-based permissions, and track storage and analytics usage in real time.\",\n",
    "    \"MadeUpCompany has over 1 million satisfied users worldwide and has been featured in TechCrunch, Forbes, and Wired as a top innovator.\",\n",
    "    \"MadeUpCompany provides tailored machine learning models including NLP-based chatbots and AI-driven recommendation engines to optimize business workflows, automate repetitive tasks, and enhance decision-making.\",\n",
    "    \"MadeUpCompany uses AES-256 encryption to protect data both in transit and at rest.\",\n",
    "    \"The Basic plan for CloudMate costs $9.99/month and includes 100GB storage and essential security features.\",\n",
    "    \"MadeUpCompany guarantees an email support response within 6 hours.\",\n",
    "    \"DataWiz provides automated anomaly detection for fraud prevention and operational efficiency.\",\n",
    "    \"After 30 days, customers may cancel their subscription at any time, and MadeUpCompany will issue a prorated refund based on the remaining subscription period.\",\n",
    "    \"DataWiz will introduce automated trend forecasting powered by deep learning.\",\n",
    "    \"MadeUpCompany offers custom pricing for Enterprise plans with unlimited storage, advanced compliance tools, and a dedicated account manager for CloudMate, and full AI customization with dedicated data scientists for DataWiz.\",\n",
    "    \"MadeUpCompany's sustainability value focuses on ensuring their infrastructure is energy-efficient and environmentally responsible.\",\n",
    "    \"MadeUpCompany's mission is to empower businesses and individuals with cutting-edge technology that enhances efficiency, scalability, and innovation.\"\n",
    "]"
   ]
  },
  {
   "cell_type": "markdown",
   "metadata": {},
   "source": [
    "#### Create a vanilla RAG evaluation system"
   ]
  },
  {
   "cell_type": "markdown",
   "metadata": {},
   "source": [
    "First, let's create an **LLM Judge**.  We will use [litellm](https://pypi.org/project/litellm/) and [instructor](https://pypi.org/project/instructor/), because we want to make sure we get an exact output from the LLM.\n",
    "\n",
    "`ìnstructor` allow us to pass in a `response_model` object to the generation method. The response from the llm will be in the same format as the `response_model` object. This is useful for evaluation purposes.\n",
    "\n",
    "Note also that it makes sense to use a heavier model for evaluation. The ideal is that we iteratively improve our smaller model, but we need a better/bigger model to evaluate the smaller model."
   ]
  },
  {
   "cell_type": "code",
   "execution_count": 26,
   "metadata": {},
   "outputs": [],
   "source": [
    "\n",
    "# create a litellm client\n",
    "litellm.drop_params = True  # watsonx.ai doesn't support `json_mode`\n",
    "client = instructor.from_litellm(completion, mode=Mode.JSON)\n",
    "\n",
    "# create a response model - LLM is forced to return an object of this type\n",
    "class JudgeResponse(BaseModel):\n",
    "    reasoning: str = Field(description=\"Short one-sentence reason for score\")\n",
    "    score: Literal[0, .5, 1] = Field(description=\"Final score\")\n",
    "\n",
    "# define a function to call the judge\n",
    "def call_judge(prompt : str) -> JudgeResponse:\n",
    "    response = client.chat.completions.create(\n",
    "        model=\"watsonx/meta-llama/llama-3-3-70b-instruct\",\n",
    "        max_tokens=1024,\n",
    "        messages=[\n",
    "            {\n",
    "                \"role\": \"user\",\n",
    "                \"content\": prompt,\n",
    "            }\n",
    "        ],\n",
    "        project_id=WX_PROJECT_ID,\n",
    "        apikey=WX_API_KEY,\n",
    "        api_base=WX_API_URL,\n",
    "        response_model=JudgeResponse,\n",
    "        # decoding_method=\"greedy\",\n",
    "        # temperature=0,\n",
    "    )\n",
    "    return response"
   ]
  },
  {
   "cell_type": "markdown",
   "metadata": {},
   "source": [
    "Next, let's write a `RagEvaluator` class that will use our LLM judge to score the output from our RAG system."
   ]
  },
  {
   "cell_type": "code",
   "execution_count": 27,
   "metadata": {},
   "outputs": [],
   "source": [
    "class RAGEvaluator:\n",
    "    \"\"\"\n",
    "    A streamlined evaluator for RAG systems focusing on three key dimensions:\n",
    "    1. Retrieval Quality\n",
    "    2. Answer Correctness\n",
    "    3. Hallucination Detection\n",
    "    \"\"\"\n",
    "    def __init__(self, llm_func):\n",
    "        \"\"\"Initialize with an LLM.\"\"\"\n",
    "        self.llm_func = llm_func\n",
    "            \n",
    "    def evaluate_retrieval_quality(self, response: dict[str, Any], expected_answer: str, verbose : bool = False) -> JudgeResponse:\n",
    "        \"\"\"\n",
    "        Ask LLM if retrieved documents contain information needed for the expected answer.\n",
    "        \"\"\"\n",
    "        # Combine all retrieved document contents with clear formatting\n",
    "        retrieved_text = \"\\n\\n\".join([f\"Document {i+1}:\\n{doc.page_content}\" for i, doc in enumerate(response.get('context', []))])\n",
    "        \n",
    "        prompt = f\"\"\"You are given a set of documents and a fact. Can the fact be found in the documents? Judge by the information, not the exact wording of the fact.\n",
    "        \n",
    "        - Respond with 1 if the fact is present (also if the fact can be pieced together from multiple documents).\n",
    "        - Respond with 0 if the fact is not present in any of the documents.\n",
    "        - Responds with 0.5 ff only part of the fact is present.\n",
    "        \n",
    "        Retrieved Documents: \n",
    "        {retrieved_text}\n",
    "\n",
    "        Fact:\n",
    "        {expected_answer}\n",
    "        \n",
    "        Can the fact be found in the documents? Respond as a JudgeResponse object with: \n",
    "        - a short reason (max 20 words)\n",
    "        - a score of 1, 0.5, or 0.\n",
    "        \"\"\"\n",
    "        \n",
    "        result = self.llm_func(prompt)\n",
    "        if verbose:\n",
    "            print(f\"[evaluation_retrieval_quality] LLM response: {result}\")\n",
    "        return result\n",
    "    \n",
    "    def evaluate_answer_correctness(self, response: dict[str, Any], expected_answer: str, verbose : bool = False) -> JudgeResponse:\n",
    "        \"\"\"\n",
    "        Ask LLM to rate how correct/similar the generated answer is to the expected answer.\n",
    "        \"\"\"\n",
    "        generated_answer = response.get('answer', '')\n",
    "        \n",
    "        prompt = f\"\"\"You are evaluating a RAG system. You are given a question, an expected answer, and a generated answer. Is the generated answer as correct - or close to as correct - as the expected answer? \n",
    "        \n",
    "        - Respond with 1 if the answer is yes (also if the answer is more detailed than expected)\n",
    "        - Respond with 0 if the answer is no. \n",
    "        - respond with 0.5 if the generated answer is partially correct\n",
    "\n",
    "        Question:\n",
    "        {response.get('question', '')}\n",
    "        \n",
    "        Expected answer:\n",
    "        {expected_answer}\n",
    "        \n",
    "        Generated answer:\n",
    "        {generated_answer}\n",
    "        \n",
    "        Is the generated answer correct enough? Consider content correctness rather than exact wording. \n",
    "        Respond as a JudgeResponse object with: \n",
    "        - a short reason (max 20 words)\n",
    "        - a score of 1, 0.5, or 0.\"\"\"\n",
    "        \n",
    "        result = self.llm_func(prompt)\n",
    "        if verbose:\n",
    "            print(f\"[evaluation_answer_correctness] LLM response: {result}\")\n",
    "        return result\n",
    "    \n",
    "    def evaluate_hallucination(self, response: dict[str, Any], verbose : bool = False) -> JudgeResponse:\n",
    "        \"\"\"\n",
    "        Ask LLM to evaluate if the answer contains hallucinations.\n",
    "        \"\"\"\n",
    "        generated_answer = response.get('answer', '')\n",
    "        retrieved_text = \"\\n\\n\".join([f\"Document {i+1}:\\n{doc.page_content}\" for i, doc in enumerate(response.get('context', []))])\n",
    "        \n",
    "        prompt = f\"\"\"You are evaluating a RAG system. Your task is to determine if the generated answer contains hallucinations. Hallucinations are any information that is not directly supported by the retrieved documents. Does the generated answer contain hallucinations? \n",
    "        \n",
    "        - If the answer is no, respond with 0. \n",
    "        - If the answer is yes, respond with 1.\n",
    "        - If the answer is partially hallucinated, respond with 0.5. \n",
    "        - If the generated answer states that it does not know, respond with 0.\n",
    "\n",
    "        Question: \n",
    "        {response.get('question', '')}\n",
    "        \n",
    "        Retrieved context (this is all the information the AI had access to):\n",
    "        {retrieved_text}\n",
    "        \n",
    "        Generated answer:\n",
    "        {generated_answer}\n",
    "        \n",
    "        Does the generated answer contain hallucinations? Respond as a JudgeResponse object with: \n",
    "        - a short reason (max 20 words)\n",
    "        - a score of 1, 0.5, or 0.\n",
    "        \"\"\"\n",
    "        \n",
    "        result = self.llm_func(prompt)\n",
    "        if verbose:\n",
    "            print(f\"[evaluation_hallucination] LLM response: {result}\")\n",
    "        return result\n",
    "    \n",
    "    def evaluate(self, response: dict[str, Any], expected_answer: str, verbose : bool = False) -> dict[str, Any]:\n",
    "        \"\"\"\n",
    "        Evaluate a RAG response across all three dimensions.\n",
    "        \"\"\"\n",
    "        # Get scores for each dimension\n",
    "        retrieval_score = self.evaluate_retrieval_quality(response, expected_answer, verbose=verbose)\n",
    "        correctness_score = self.evaluate_answer_correctness(response, expected_answer, verbose=verbose)\n",
    "        hallucination_score = self.evaluate_hallucination(response, verbose=verbose)\n",
    "        \n",
    "        return {\n",
    "            \"query\": response.get(\"question\", \"\"),\n",
    "            \"retrieved_context\": response.get(\"context\", []),\n",
    "            \"generated_answer\": response.get(\"answer\", \"\"),\n",
    "            \"expected_answer\": expected_answer,\n",
    "            \"retrieval_quality\": retrieval_score.score,\n",
    "            \"answer_correctness\": correctness_score.score, \n",
    "            \"hallucination_score\": hallucination_score.score,  # Lower is better\n",
    "\n",
    "            # keep the reasoning for manual inspection\n",
    "            \"retrieval_quality_reasoning\": retrieval_score.reasoning,\n",
    "            \"answer_correctness_reasoning\": correctness_score.reasoning,\n",
    "            \"hallucination_reasoning\": hallucination_score.reasoning\n",
    "        }\n",
    "\n",
    "\n",
    "def evaluate_rag_system(graph, test_queries, expected_responses, evaluator, verbose=False):\n",
    "    \"\"\"\n",
    "    Evaluate a RAG system on a test set.\n",
    "    \n",
    "    Args:\n",
    "        graph: The LangGraph RAG system with invoke method\n",
    "        test_queries: List of questions to test\n",
    "        expected_responses: List of expected answers\n",
    "        evaluator: The RAG evaluator object\n",
    "        \n",
    "    Returns:\n",
    "        Evaluation results\n",
    "    \"\"\"\n",
    "    results = []\n",
    "    \n",
    "    for query, expected in tqdm(zip(test_queries, expected_responses), total=len(test_queries)):\n",
    "\n",
    "        # Get RAG response\n",
    "        response = graph.invoke({\"question\": query})\n",
    "        \n",
    "        # Evaluate\n",
    "        eval_result = evaluator.evaluate(response, expected, verbose=verbose)\n",
    "        results.append(eval_result)\n",
    "    \n",
    "    # Calculate average scores\n",
    "    avg_metrics = {\n",
    "        \"retrieval_quality\": np.mean([r[\"retrieval_quality\"] for r in results]),\n",
    "        \"answer_correctness\": np.mean([r[\"answer_correctness\"] for r in results]),\n",
    "        \"hallucination\": np.mean([r[\"hallucination_score\"] for r in results])\n",
    "    }\n",
    "\n",
    "    return {\n",
    "        \"individual_results\": results,\n",
    "        \"scores\": avg_metrics,\n",
    "        \"num_queries\": len(test_queries)\n",
    "    }"
   ]
  },
  {
   "cell_type": "markdown",
   "metadata": {},
   "source": [
    "#### Evaluate the RAG system"
   ]
  },
  {
   "cell_type": "code",
   "execution_count": 28,
   "metadata": {},
   "outputs": [
    {
     "name": "stderr",
     "output_type": "stream",
     "text": [
      "  0%|          | 0/25 [00:00<?, ?it/s]"
     ]
    },
    {
     "name": "stdout",
     "output_type": "stream",
     "text": [
      "[evaluation_retrieval_quality] LLM response: reasoning='Exact fact found' score=1\n",
      "[evaluation_answer_correctness] LLM response: reasoning='Same content, minor wording difference' score=1\n"
     ]
    },
    {
     "name": "stderr",
     "output_type": "stream",
     "text": [
      "  4%|▍         | 1/25 [00:14<05:47, 14.50s/it]"
     ]
    },
    {
     "name": "stdout",
     "output_type": "stream",
     "text": [
      "[evaluation_hallucination] LLM response: reasoning='Answer is directly supported' score=0\n",
      "[evaluation_retrieval_quality] LLM response: reasoning='All security features mentioned' score=1\n",
      "[evaluation_answer_correctness] LLM response: reasoning='More detailed than expected' score=1\n"
     ]
    },
    {
     "name": "stderr",
     "output_type": "stream",
     "text": [
      "  8%|▊         | 2/25 [00:25<04:40, 12.22s/it]"
     ]
    },
    {
     "name": "stdout",
     "output_type": "stream",
     "text": [
      "[evaluation_hallucination] LLM response: reasoning='Generated answer mostly supported' score=0\n",
      "[evaluation_retrieval_quality] LLM response: reasoning='Fact found in Document 1' score=1\n",
      "[evaluation_answer_correctness] LLM response: reasoning='Generated answer is almost identical' score=1\n"
     ]
    },
    {
     "name": "stderr",
     "output_type": "stream",
     "text": [
      " 12%|█▏        | 3/25 [00:35<04:07, 11.26s/it]"
     ]
    },
    {
     "name": "stdout",
     "output_type": "stream",
     "text": [
      "[evaluation_hallucination] LLM response: reasoning='Information is directly supported' score=0\n",
      "[evaluation_retrieval_quality] LLM response: reasoning='Fact fully present' score=1\n",
      "[evaluation_answer_correctness] LLM response: reasoning='Generated answer is more detailed' score=1\n"
     ]
    },
    {
     "name": "stderr",
     "output_type": "stream",
     "text": [
      " 16%|█▌        | 4/25 [00:45<03:51, 11.02s/it]"
     ]
    },
    {
     "name": "stdout",
     "output_type": "stream",
     "text": [
      "[evaluation_hallucination] LLM response: reasoning='Answer is fully supported' score=0\n",
      "[evaluation_retrieval_quality] LLM response: reasoning='Fact mentioned in Document 1' score=1\n",
      "[evaluation_answer_correctness] LLM response: reasoning='More detailed than expected' score=1\n"
     ]
    },
    {
     "name": "stderr",
     "output_type": "stream",
     "text": [
      " 20%|██        | 5/25 [00:57<03:41, 11.07s/it]"
     ]
    },
    {
     "name": "stdout",
     "output_type": "stream",
     "text": [
      "[evaluation_hallucination] LLM response: reasoning='Answer is supported by Document 1' score=0\n",
      "[evaluation_retrieval_quality] LLM response: reasoning='Fact matches Document 1' score=1\n",
      "[evaluation_answer_correctness] LLM response: reasoning='Generated answer is more detailed' score=1\n"
     ]
    },
    {
     "name": "stderr",
     "output_type": "stream",
     "text": [
      " 24%|██▍       | 6/25 [01:08<03:32, 11.21s/it]"
     ]
    },
    {
     "name": "stdout",
     "output_type": "stream",
     "text": [
      "[evaluation_hallucination] LLM response: reasoning='No extra information' score=0\n",
      "[evaluation_retrieval_quality] LLM response: reasoning='Fact stated in Document 1' score=1\n",
      "[evaluation_answer_correctness] LLM response: reasoning='More detailed than expected' score=1\n"
     ]
    },
    {
     "name": "stderr",
     "output_type": "stream",
     "text": [
      " 28%|██▊       | 7/25 [01:19<03:19, 11.06s/it]"
     ]
    },
    {
     "name": "stdout",
     "output_type": "stream",
     "text": [
      "[evaluation_hallucination] LLM response: reasoning='Answer matches retrieved context' score=0\n",
      "[evaluation_retrieval_quality] LLM response: reasoning='Fact mentioned in roadmap' score=1\n",
      "[evaluation_answer_correctness] LLM response: reasoning='Generated answer is more detailed' score=1\n"
     ]
    },
    {
     "name": "stderr",
     "output_type": "stream",
     "text": [
      " 32%|███▏      | 8/25 [01:30<03:06, 10.95s/it]"
     ]
    },
    {
     "name": "stdout",
     "output_type": "stream",
     "text": [
      "[evaluation_hallucination] LLM response: reasoning='No unsupported info' score=0\n",
      "[evaluation_retrieval_quality] LLM response: reasoning='Fact mentioned in Document 1' score=1\n",
      "[evaluation_answer_correctness] LLM response: reasoning='Equivalent content' score=1\n"
     ]
    },
    {
     "name": "stderr",
     "output_type": "stream",
     "text": [
      " 36%|███▌      | 9/25 [01:40<02:51, 10.73s/it]"
     ]
    },
    {
     "name": "stdout",
     "output_type": "stream",
     "text": [
      "[evaluation_hallucination] LLM response: reasoning='Answer matches retrieved context' score=0\n",
      "[evaluation_retrieval_quality] LLM response: reasoning='Fact matches Document 1' score=1\n",
      "[evaluation_answer_correctness] LLM response: reasoning='Identical content' score=1\n"
     ]
    },
    {
     "name": "stderr",
     "output_type": "stream",
     "text": [
      " 40%|████      | 10/25 [01:50<02:40, 10.68s/it]"
     ]
    },
    {
     "name": "stdout",
     "output_type": "stream",
     "text": [
      "[evaluation_hallucination] LLM response: reasoning='Answer directly supported' score=0\n",
      "[evaluation_retrieval_quality] LLM response: reasoning='Fact mentioned in Document 1' score=1\n",
      "[evaluation_answer_correctness] LLM response: reasoning='Similar content' score=1\n"
     ]
    },
    {
     "name": "stderr",
     "output_type": "stream",
     "text": [
      " 44%|████▍     | 11/25 [02:00<02:23, 10.24s/it]"
     ]
    },
    {
     "name": "stdout",
     "output_type": "stream",
     "text": [
      "[evaluation_hallucination] LLM response: reasoning='Answer is directly supported' score=0\n",
      "[evaluation_retrieval_quality] LLM response: reasoning='Fact mentioned in Document 1' score=1\n",
      "[evaluation_answer_correctness] LLM response: reasoning='More detailed than expected' score=1\n"
     ]
    },
    {
     "name": "stderr",
     "output_type": "stream",
     "text": [
      " 48%|████▊     | 12/25 [02:12<02:23, 11.01s/it]"
     ]
    },
    {
     "name": "stdout",
     "output_type": "stream",
     "text": [
      "[evaluation_hallucination] LLM response: reasoning='Includes features not in Starter plan' score=1\n",
      "[evaluation_retrieval_quality] LLM response: reasoning='Fact present in Document 1' score=1\n",
      "[evaluation_answer_correctness] LLM response: reasoning='Generated answer is partially correct' score=0.5\n"
     ]
    },
    {
     "name": "stderr",
     "output_type": "stream",
     "text": [
      " 52%|█████▏    | 13/25 [02:24<02:12, 11.07s/it]"
     ]
    },
    {
     "name": "stdout",
     "output_type": "stream",
     "text": [
      "[evaluation_hallucination] LLM response: reasoning='Answer is directly supported' score=0\n",
      "[evaluation_retrieval_quality] LLM response: reasoning='Fact matches Document 1' score=1\n",
      "[evaluation_answer_correctness] LLM response: reasoning='More detailed than expected' score=1\n"
     ]
    },
    {
     "name": "stderr",
     "output_type": "stream",
     "text": [
      " 56%|█████▌    | 14/25 [02:34<01:58, 10.81s/it]"
     ]
    },
    {
     "name": "stdout",
     "output_type": "stream",
     "text": [
      "[evaluation_hallucination] LLM response: reasoning='Answer fully supported' score=0\n",
      "[evaluation_retrieval_quality] LLM response: reasoning='Fact present in Document 1' score=1\n",
      "[evaluation_answer_correctness] LLM response: reasoning='Similar content and details' score=1\n"
     ]
    },
    {
     "name": "stderr",
     "output_type": "stream",
     "text": [
      " 60%|██████    | 15/25 [02:44<01:45, 10.59s/it]"
     ]
    },
    {
     "name": "stdout",
     "output_type": "stream",
     "text": [
      "[evaluation_hallucination] LLM response: reasoning='Answer fully supported' score=0\n",
      "[evaluation_retrieval_quality] LLM response: reasoning='Fact fully described' score=1\n",
      "[evaluation_answer_correctness] LLM response: reasoning='Similar content, minor differences' score=1\n"
     ]
    },
    {
     "name": "stderr",
     "output_type": "stream",
     "text": [
      " 64%|██████▍   | 16/25 [02:53<01:32, 10.22s/it]"
     ]
    },
    {
     "name": "stdout",
     "output_type": "stream",
     "text": [
      "[evaluation_hallucination] LLM response: reasoning='Answer supported by documents' score=0\n",
      "[evaluation_retrieval_quality] LLM response: reasoning='Fact mentioned in Document 1' score=1\n",
      "[evaluation_answer_correctness] LLM response: reasoning='More detailed, still accurate' score=1\n"
     ]
    },
    {
     "name": "stderr",
     "output_type": "stream",
     "text": [
      " 68%|██████▊   | 17/25 [03:04<01:22, 10.28s/it]"
     ]
    },
    {
     "name": "stdout",
     "output_type": "stream",
     "text": [
      "[evaluation_hallucination] LLM response: reasoning='Answer is directly supported' score=0\n",
      "[evaluation_retrieval_quality] LLM response: reasoning='Fact found in Document 1' score=1\n",
      "[evaluation_answer_correctness] LLM response: reasoning='More detailed than expected' score=1\n"
     ]
    },
    {
     "name": "stderr",
     "output_type": "stream",
     "text": [
      " 72%|███████▏  | 18/25 [03:14<01:12, 10.40s/it]"
     ]
    },
    {
     "name": "stdout",
     "output_type": "stream",
     "text": [
      "[evaluation_hallucination] LLM response: reasoning='Includes extra features' score=1\n",
      "[evaluation_retrieval_quality] LLM response: reasoning='Email support response time stated' score=1\n",
      "[evaluation_answer_correctness] LLM response: reasoning=' Identical content' score=1\n"
     ]
    },
    {
     "name": "stderr",
     "output_type": "stream",
     "text": [
      " 76%|███████▌  | 19/25 [03:26<01:04, 10.80s/it]"
     ]
    },
    {
     "name": "stdout",
     "output_type": "stream",
     "text": [
      "[evaluation_hallucination] LLM response: reasoning='Answer is directly supported' score=0\n",
      "[evaluation_retrieval_quality] LLM response: reasoning='Fact mentioned in Document 1' score=1\n",
      "[evaluation_answer_correctness] LLM response: reasoning='More detailed than expected' score=1\n"
     ]
    },
    {
     "name": "stderr",
     "output_type": "stream",
     "text": [
      " 80%|████████  | 20/25 [03:36<00:52, 10.57s/it]"
     ]
    },
    {
     "name": "stdout",
     "output_type": "stream",
     "text": [
      "[evaluation_hallucination] LLM response: reasoning='Some details not supported' score=0.5\n",
      "[evaluation_retrieval_quality] LLM response: reasoning='Fact present in document' score=1\n",
      "[evaluation_answer_correctness] LLM response: reasoning='More detailed than expected' score=1\n"
     ]
    },
    {
     "name": "stderr",
     "output_type": "stream",
     "text": [
      " 84%|████████▍ | 21/25 [03:47<00:42, 10.55s/it]"
     ]
    },
    {
     "name": "stdout",
     "output_type": "stream",
     "text": [
      "[evaluation_hallucination] LLM response: reasoning='Answer is supported by Document 1' score=0\n",
      "[evaluation_retrieval_quality] LLM response: reasoning='Fact stated in roadmap' score=1\n",
      "[evaluation_answer_correctness] LLM response: reasoning='More detailed than expected' score=1\n"
     ]
    },
    {
     "name": "stderr",
     "output_type": "stream",
     "text": [
      " 88%|████████▊ | 22/25 [03:56<00:31, 10.34s/it]"
     ]
    },
    {
     "name": "stdout",
     "output_type": "stream",
     "text": [
      "[evaluation_hallucination] LLM response: reasoning='Mentions encryption as ML capability' score=1\n",
      "[evaluation_retrieval_quality] LLM response: reasoning='Partially present' score=0.5\n",
      "[evaluation_answer_correctness] LLM response: reasoning='Partially correct information' score=0.5\n"
     ]
    },
    {
     "name": "stderr",
     "output_type": "stream",
     "text": [
      " 92%|█████████▏| 23/25 [04:09<00:22, 11.03s/it]"
     ]
    },
    {
     "name": "stdout",
     "output_type": "stream",
     "text": [
      "[evaluation_hallucination] LLM response: reasoning='Implicit details not in context' score=1\n",
      "[evaluation_retrieval_quality] LLM response: reasoning='Exact match found' score=1\n",
      "[evaluation_answer_correctness] LLM response: reasoning='Exact match found' score=1\n"
     ]
    },
    {
     "name": "stderr",
     "output_type": "stream",
     "text": [
      " 96%|█████████▌| 24/25 [04:19<00:10, 10.78s/it]"
     ]
    },
    {
     "name": "stdout",
     "output_type": "stream",
     "text": [
      "[evaluation_hallucination] LLM response: reasoning='Answer is directly supported' score=0\n",
      "[evaluation_retrieval_quality] LLM response: reasoning='Fact present in Document 1' score=1\n",
      "[evaluation_answer_correctness] LLM response: reasoning='More detailed, same meaning' score=1\n"
     ]
    },
    {
     "name": "stderr",
     "output_type": "stream",
     "text": [
      "100%|██████████| 25/25 [04:29<00:00, 10.79s/it]"
     ]
    },
    {
     "name": "stdout",
     "output_type": "stream",
     "text": [
      "[evaluation_hallucination] LLM response: reasoning='Partially supported by context' score=0.5\n"
     ]
    },
    {
     "name": "stderr",
     "output_type": "stream",
     "text": [
      "\n"
     ]
    },
    {
     "data": {
      "text/plain": [
       "{'retrieval_quality': 0.98, 'answer_correctness': 0.96, 'hallucination': 0.2}"
      ]
     },
     "execution_count": 28,
     "metadata": {},
     "output_type": "execute_result"
    }
   ],
   "source": [
    "\n",
    "results = evaluate_rag_system(\n",
    "    graph, \n",
    "    sample_queries,\n",
    "    expected_responses,\n",
    "    evaluator=RAGEvaluator(llm_func=call_judge),\n",
    "    verbose=True\n",
    ")\n",
    "\n",
    "results[\"scores\"]"
   ]
  },
  {
   "cell_type": "markdown",
   "metadata": {},
   "source": [
    "#### Plot the evaluation results"
   ]
  },
  {
   "cell_type": "code",
   "execution_count": 29,
   "metadata": {},
   "outputs": [
    {
     "data": {
      "image/png": "[encoded data removed]",
      "text/plain": [
       "<Figure size 640x480 with 1 Axes>"
      ]
     },
     "metadata": {},
     "output_type": "display_data"
    }
   ],
   "source": [
    "def plot_scores(scores):\n",
    "    \"\"\"\n",
    "    Plot the evaluation scores.\n",
    "    \"\"\"\n",
    "    labels = [\"Retrieval Quality\", \"Answer Correctness\", \"Hallucination\"]\n",
    "    scores = [scores[\"retrieval_quality\"], scores[\"answer_correctness\"], scores[\"hallucination\"]]\n",
    "    \n",
    "    _, ax = plt.subplots()\n",
    "    ax.bar(labels, scores)\n",
    "    ax.set_xlabel('Metric')\n",
    "    # set y range to 0-1\n",
    "    ax.set_ylim(0, 1)\n",
    "    ax.set_ylabel('Score')\n",
    "    ax.set_title('RAG Evaluation Scores')\n",
    "    plt.show()\n",
    "\n",
    "plot_scores(results[\"scores\"])"
   ]
  },
  {
   "cell_type": "markdown",
   "metadata": {},
   "source": [
    "#### Inspection of the evaluation results"
   ]
  },
  {
   "cell_type": "code",
   "execution_count": 30,
   "metadata": {},
   "outputs": [
    {
     "data": {
      "text/plain": [
       "[{'query': 'When was MadeUpCompany founded and where is it headquartered?',\n",
       "  'retrieved_context': [Document(id='51648360-7c1d-4660-b09d-2ee4c71caad3', metadata={'Header 1': 'About MadeUpCompany'}, page_content='[About MadeUpCompany]: \\nMadeUpCompany is a pioneering technology firm founded in 2010, specializing in cloud computing, data analytics, and machine learning. Headquartered in San Francisco, California, we have a global presence with satellite offices in New York, London, and Tokyo. Our mission is to empower businesses and individuals with cutting-edge technology that enhances efficiency, scalability, and innovation.  \\nWith a diverse team of experts from various industries—including AI research, cybersecurity, and enterprise software development—we push the boundaries of what’s possible. Our commitment to continuous improvement, security, and customer success has earned us recognition as a leader in the tech space.'),\n",
       "   Document(id='f3d8143d-9fe6-42d8-95be-228dd38fe705', metadata={'Header 1': 'About MadeUpCompany', 'Header 2': 'Contact'}, page_content='[About MadeUpCompany/Contact]: \\nFor more information, visit our website at www.madeupcompany.com or contact our sales team at sales@madeupcompany.com. 🚀'),\n",
       "   Document(id='f4c33e6a-3be2-4c07-a473-4c6a0e101162', metadata={'Header 1': 'About MadeUpCompany', 'Header 2': 'Why Choose Us?'}, page_content=\"[About MadeUpCompany/Why Choose Us?]: \\n- ✔️ Over 1 million satisfied users worldwide\\n- ✔️ Trusted by Fortune 500 companies\\n- ✔️ Featured in TechCrunch, Forbes, and Wired as a top innovator\\n- ✔️ Unmatched customer support and security  \\nWhether you're a startup, an enterprise, or an individual user, MadeUpCompany provides the tools you need to thrive in the digital age.\")],\n",
       "  'generated_answer': 'MadeUpCompany was founded in 2010 and its headquarters are located in San Francisco, California.',\n",
       "  'expected_answer': 'MadeUpCompany was founded in 2010 and is headquartered in San Francisco, California.',\n",
       "  'retrieval_quality': 1,\n",
       "  'answer_correctness': 1,\n",
       "  'hallucination_score': 0,\n",
       "  'retrieval_quality_reasoning': 'Exact fact found',\n",
       "  'answer_correctness_reasoning': 'Same content, minor wording difference',\n",
       "  'hallucination_reasoning': 'Answer is directly supported'},\n",
       " {'query': 'What security features does CloudMate offer for enterprise customers?',\n",
       "  'retrieved_context': [Document(id='c5438c82-844f-4c98-8dda-b1de43674746', metadata={'Header 1': 'About MadeUpCompany', 'Header 2': 'Products and Services', 'Header 3': 'CloudMate – Secure and Scalable Cloud Storage'}, page_content='[About MadeUpCompany/Products and Services/CloudMate – Secure and Scalable Cloud Storage]: \\nCloudMate is our flagship cloud storage solution, designed for businesses of all sizes. Features include:\\n- ✅ Seamless data migration with automated backups\\n- ✅ Military-grade encryption and multi-factor authentication\\n- ✅ Role-based access control for enterprise security\\n- ✅ AI-powered file organization and search capabilities'),\n",
       "   Document(id='ba0bb89a-90a5-466a-960d-04f9c1d4466a', metadata={'Header 1': 'About MadeUpCompany', 'Header 2': 'Pricing', 'Header 3': 'CloudMate Plans'}, page_content='[About MadeUpCompany/Pricing/CloudMate Plans]: \\nOur secure and scalable cloud storage service, CloudMate, is available in the following plans:\\n- Basic: $9.99/month – 100GB storage, essential security features\\n- Professional: $29.99/month – 1TB storage, enhanced security, priority support\\n- Enterprise: Custom pricing – Unlimited storage, advanced compliance tools, dedicated account manager'),\n",
       "   Document(id='c528aff6-4dfa-411f-9cf7-7e799843626d', metadata={'Header 1': 'About MadeUpCompany', 'Header 2': 'Products and Services'}, page_content='[About MadeUpCompany/Products and Services]: \\nWe offer a comprehensive suite of cloud-based solutions that streamline operations, enhance decision-making, and power AI-driven insights. Our core products include CloudMate, DataWiz, and Custom AI Solutions.')],\n",
       "  'generated_answer': 'CloudMate offers military-grade encryption, multi-factor authentication, role-based access control, and AI-powered file organization as its primary security features for enterprise customers. The Enterprise plan provides additional benefits like unlimited storage, advanced compliance tools, and a dedicated account manager.',\n",
       "  'expected_answer': 'CloudMate offers military-grade encryption, multi-factor authentication, and role-based access control for enterprise security.',\n",
       "  'retrieval_quality': 1,\n",
       "  'answer_correctness': 1,\n",
       "  'hallucination_score': 0,\n",
       "  'retrieval_quality_reasoning': 'All security features mentioned',\n",
       "  'answer_correctness_reasoning': 'More detailed than expected',\n",
       "  'hallucination_reasoning': 'Generated answer mostly supported'},\n",
       " {'query': 'How much does the Professional plan for CloudMate cost and what storage capacity does it include?',\n",
       "  'retrieved_context': [Document(id='ba0bb89a-90a5-466a-960d-04f9c1d4466a', metadata={'Header 1': 'About MadeUpCompany', 'Header 2': 'Pricing', 'Header 3': 'CloudMate Plans'}, page_content='[About MadeUpCompany/Pricing/CloudMate Plans]: \\nOur secure and scalable cloud storage service, CloudMate, is available in the following plans:\\n- Basic: $9.99/month – 100GB storage, essential security features\\n- Professional: $29.99/month – 1TB storage, enhanced security, priority support\\n- Enterprise: Custom pricing – Unlimited storage, advanced compliance tools, dedicated account manager'),\n",
       "   Document(id='c5438c82-844f-4c98-8dda-b1de43674746', metadata={'Header 1': 'About MadeUpCompany', 'Header 2': 'Products and Services', 'Header 3': 'CloudMate – Secure and Scalable Cloud Storage'}, page_content='[About MadeUpCompany/Products and Services/CloudMate – Secure and Scalable Cloud Storage]: \\nCloudMate is our flagship cloud storage solution, designed for businesses of all sizes. Features include:\\n- ✅ Seamless data migration with automated backups\\n- ✅ Military-grade encryption and multi-factor authentication\\n- ✅ Role-based access control for enterprise security\\n- ✅ AI-powered file organization and search capabilities'),\n",
       "   Document(id='7f8f3ff5-7f5b-4c1b-8f10-9be80df4565e', metadata={'Header 1': 'About MadeUpCompany', 'Header 2': 'Pricing', 'Header 3': 'DataWiz Plans'}, page_content='[About MadeUpCompany/Pricing/DataWiz Plans]: \\nOur advanced data analytics platform, DataWiz, offers the following plans:\\n- Starter: $49/month – Basic analytics, limited AI insights\\n- Growth: $99/month – Advanced machine learning models, predictive analytics\\n- Enterprise: Custom pricing – Full AI customization, dedicated data scientists\\n- Custom AI Solutions – Pricing is determined based on project scope and complexity. Contact our sales team for a personalized quote.')],\n",
       "  'generated_answer': 'The Professional plan for CloudMate costs $29.99 per month and includes 1TB of storage capacity along with enhanced security features and priority support.',\n",
       "  'expected_answer': 'The Professional plan for CloudMate costs $29.99/month and includes 1TB of storage, enhanced security, and priority support.',\n",
       "  'retrieval_quality': 1,\n",
       "  'answer_correctness': 1,\n",
       "  'hallucination_score': 0,\n",
       "  'retrieval_quality_reasoning': 'Fact found in Document 1',\n",
       "  'answer_correctness_reasoning': 'Generated answer is almost identical',\n",
       "  'hallucination_reasoning': 'Information is directly supported'},\n",
       " {'query': 'What analytics capabilities does DataWiz provide for business intelligence?',\n",
       "  'retrieved_context': [Document(id='05bd4011-401c-4587-bc97-b7e68de8fd65', metadata={'Header 1': 'About MadeUpCompany', 'Header 2': 'Products and Services', 'Header 3': 'DataWiz – Advanced Data Analytics'}, page_content='[About MadeUpCompany/Products and Services/DataWiz – Advanced Data Analytics]: \\nDataWiz transforms raw data into actionable insights using cutting-edge machine learning models. Features include:\\n- 📊 Predictive analytics for demand forecasting and customer behavior modeling\\n- 📊 Real-time dashboards with customizable reporting\\n- 📊 API integrations with popular business intelligence tools\\n- 📊 Automated anomaly detection for fraud prevention and operational efficiency'),\n",
       "   Document(id='7f8f3ff5-7f5b-4c1b-8f10-9be80df4565e', metadata={'Header 1': 'About MadeUpCompany', 'Header 2': 'Pricing', 'Header 3': 'DataWiz Plans'}, page_content='[About MadeUpCompany/Pricing/DataWiz Plans]: \\nOur advanced data analytics platform, DataWiz, offers the following plans:\\n- Starter: $49/month – Basic analytics, limited AI insights\\n- Growth: $99/month – Advanced machine learning models, predictive analytics\\n- Enterprise: Custom pricing – Full AI customization, dedicated data scientists\\n- Custom AI Solutions – Pricing is determined based on project scope and complexity. Contact our sales team for a personalized quote.'),\n",
       "   Document(id='2df54863-5d73-482d-9592-80be208c46b5', metadata={'Header 1': 'About MadeUpCompany', 'Header 2': 'Roadmap'}, page_content=\"[About MadeUpCompany/Roadmap]: \\nWe are constantly evolving and introducing new features based on customer feedback. Here’s what’s coming soon:  \\n- 🚀 AI-Driven Data Insights – DataWiz will introduce automated trend forecasting powered by deep learning.\\n- 🚀 Collaboration Tools for CloudMate – Enhanced real-time document editing and team workspaces for seamless collaboration.\\n- 🚀 Zero-Knowledge Encryption – An optional feature for businesses requiring absolute data confidentiality.  \\nWe value our customers' input and prioritize updates that deliver the most impact.\")],\n",
       "  'generated_answer': 'DataWiz provides predictive analytics for demand forecasting and customer behavior modeling, as well as real-time dashboards with customizable reporting. It also includes API integrations with popular business intelligence tools and automated anomaly detection for fraud prevention and operational efficiency.',\n",
       "  'expected_answer': 'DataWiz provides predictive analytics for demand forecasting and customer behavior modeling, real-time dashboards with customizable reporting, API integrations with popular business intelligence tools, and automated anomaly detection.',\n",
       "  'retrieval_quality': 1,\n",
       "  'answer_correctness': 1,\n",
       "  'hallucination_score': 0,\n",
       "  'retrieval_quality_reasoning': 'Fact fully present',\n",
       "  'answer_correctness_reasoning': 'Generated answer is more detailed',\n",
       "  'hallucination_reasoning': 'Answer is fully supported'},\n",
       " {'query': 'What compliance standards does MadeUpCompany adhere to?',\n",
       "  'retrieved_context': [Document(id='d55454d4-85e5-4f4d-bffb-e5499dab5a87', metadata={'Header 1': 'About MadeUpCompany', 'Header 2': 'Security and Compliance'}, page_content='[About MadeUpCompany/Security and Compliance]: \\nSecurity is at the heart of everything we do. MadeUpCompany adheres to the highest security and regulatory standards, including:  \\n- 🔒 GDPR, HIPAA, and SOC 2 Compliance – Ensuring global security and data protection compliance.\\n- 🔒 End-to-End Encryption – Protecting data in transit and at rest with AES-256 encryption.\\n- 🔒 Zero Trust Architecture – Implementing rigorous access control and continuous authentication.\\n- 🔒 DDoS Protection & Advanced Threat Detection – Safeguarding against cyber threats with AI-powered monitoring.  \\nOur team continuously updates security measures to stay ahead of evolving cyber risks.'),\n",
       "   Document(id='51648360-7c1d-4660-b09d-2ee4c71caad3', metadata={'Header 1': 'About MadeUpCompany'}, page_content='[About MadeUpCompany]: \\nMadeUpCompany is a pioneering technology firm founded in 2010, specializing in cloud computing, data analytics, and machine learning. Headquartered in San Francisco, California, we have a global presence with satellite offices in New York, London, and Tokyo. Our mission is to empower businesses and individuals with cutting-edge technology that enhances efficiency, scalability, and innovation.  \\nWith a diverse team of experts from various industries—including AI research, cybersecurity, and enterprise software development—we push the boundaries of what’s possible. Our commitment to continuous improvement, security, and customer success has earned us recognition as a leader in the tech space.'),\n",
       "   Document(id='f3d8143d-9fe6-42d8-95be-228dd38fe705', metadata={'Header 1': 'About MadeUpCompany', 'Header 2': 'Contact'}, page_content='[About MadeUpCompany/Contact]: \\nFor more information, visit our website at www.madeupcompany.com or contact our sales team at sales@madeupcompany.com. 🚀')],\n",
       "  'generated_answer': 'MadeUpCompany adheres to GDPR, HIPAA, and SOC 2 Compliance for ensuring global security and data protection. They also implement end-to-end encryption using AES-256, employ zero trust architecture, and provide DDoS protection alongside advanced threat detection through AI-powered monitoring.',\n",
       "  'expected_answer': 'MadeUpCompany adheres to GDPR, HIPAA, and SOC 2 compliance standards for global security and data protection compliance.',\n",
       "  'retrieval_quality': 1,\n",
       "  'answer_correctness': 1,\n",
       "  'hallucination_score': 0,\n",
       "  'retrieval_quality_reasoning': 'Fact mentioned in Document 1',\n",
       "  'answer_correctness_reasoning': 'More detailed than expected',\n",
       "  'hallucination_reasoning': 'Answer is supported by Document 1'}]"
      ]
     },
     "execution_count": 30,
     "metadata": {},
     "output_type": "execute_result"
    }
   ],
   "source": [
    "results[\"individual_results\"][:5]"
   ]
  },
  {
   "cell_type": "markdown",
   "metadata": {},
   "source": [
    "## What can we optimize?\n",
    "\n",
    "| Component | Importance | Parameters and Design Choices |\n",
    "|:-----------|:------------|:-------------------------------|\n",
    "| <div style=\"width:60px\">**1. Document preprocessing**</div> | <div style=\"width:150px\">Affects quality of information encoded into vector embeddings. Clean, well-structured text leads to better embeddings and more accurate retrieval.</div> | <div style=\"width:350px\">• Text cleaning (HTML tags, special characters, whitespace)<br>• Language detection and filtering<br>• Deduplication of similar content<br>• Sentence normalization (casing, punctuation)<br>• Named entity recognition<br>• Content filtering (boilerplate, headers/footers)<br>• Metadata extraction and preservation<br>• Document dating/versioning<br>• OCR quality improvement<br>• Table and structured data extraction</div> |\n",
    "| **2. Document chunking strategy** | Determines how documents are split into retrievable pieces, directly impacting what information is retrieved together and context boundaries. | • Chunk size (token/character count)<br>• Overlap between chunks<br>• Semantic vs. fixed-length chunking<br>• Hierarchy-aware chunking<br>• Chunk methods (sentence, paragraph, section)<br>• Metadata preservation within chunks<br>• Document structure preservation<br>• Special handling for lists, tables, code blocks<br>• Entity-based chunking<br>• Recursive chunking with different granularities |\n",
    "| **3. Embedding model** | Converts text into vector representations that capture semantic meaning, determining how effectively similar content can be retrieved. | • Model size and performance trade-offs<br>• Domain-specific vs. general-purpose embeddings<br>• Multilingual vs. monolingual models<br>• Fine-tuning on domain-specific data<br>• Dimensionality of embeddings<br>• Asymmetric embeddings (query vs. document)<br>• Hybrid embedding approaches<br>• Sentence vs. paragraph vs. document-level embeddings<br>• Token context window limitations<br>• Cost and latency considerations |\n",
    "| **4. Vector index** | Affects retrieval speed, accuracy, and scalability of the system. | • Index type (HNSW, IVF, FLAT, ANNOY)<br>• Quantization parameters<br>• Number of lists/clusters in IVF<br>• Number of neighbors in HNSW<br>• Index refresh strategy<br>• Sharding and distribution approach<br>• Metadata filtering capabilities<br>• Disk vs. memory trade-offs<br>• Indexing parameters (construction time vs. quality)<br>• Multi-vector indexing |\n",
    "| **5. Retrieval parameters** | Control how candidates are fetched and ranked, balancing between precision, recall, and performance. | • Top-k retrieved documents<br>• Distance/similarity metrics<br>• Diversity parameters (MMR, clustering)<br>• Hybrid retrieval (keyword + semantic)<br>• Re-ranking strategies<br>• Query expansion and reformulation<br>• Filtering by metadata<br>• Thresholding (minimum similarity score)<br>• Multi-query approaches<br>• Context-aware retrieval |\n",
    "| **6. RAG prompt template** | Determines how retrieved information is incorporated and used by the LLM, affecting output quality and factuality. | • Few-shot examples in prompts<br>• Structured vs. unstructured context inclusion<br>• Citation and source attribution mechanics<br>• Query-focused context summarization<br>• Multi-step reasoning frameworks<br>• Context compression techniques<br>• Handling of conflicting information<br>• Template adaptation based on document types<br>• Metadata integration into prompts<br>• System instructions for grounding |\n",
    "| **7. LLM model** | Processes retrieved information and generates the final response, with capabilities directly affecting output quality. | • Model size and capability<br>• Specialized vs. general-purpose models<br>• Fine-tuning on domain-specific data<br>• Instruction tuning for RAG-specific tasks<br>• Context window size<br>• Temperature and sampling parameters<br>• Token budget allocation<br>• Response format control<br>• Chain-of-thought prompting compatibility<br>• Tool use capabilities |\n",
    "| **8. Evaluation metrics** | Provide quantitative and qualitative assessment of system performance, guiding improvement efforts. | • Faithfulness/factuality metrics<br>• Relevance of retrieved documents<br>• Answer correctness (against ground truth)<br>• Diversity of retrieved information<br>• Response completeness metrics<br>• Latency and throughput measurements<br>• User satisfaction metrics<br>• Task-specific metrics<br>• Retrieval precision, recall, and F1 scores<br>• A/B testing frameworks |"
   ]
  },
  {
   "cell_type": "code",
   "execution_count": null,
   "metadata": {},
   "outputs": [],
   "source": []
  }
 ],
 "metadata": {
  "kernelspec": {
   "display_name": "Python 3",
   "language": "python",
   "name": "python3"
  },
  "language_info": {
   "codemirror_mode": {
    "name": "ipython",
    "version": 3
   },
   "file_extension": ".py",
   "mimetype": "text/x-python",
   "name": "python",
   "nbconvert_exporter": "python",
   "pygments_lexer": "ipython3",
   "version": "3.11.12"
  }
 },
 "nbformat": 4,
 "nbformat_minor": 2
}

{
 "cells": [
  {
   "cell_type": "markdown",
   "metadata": {},
   "source": [
    "**AI & Machine Learning (KAN-CINTO4003U) - Copenhagen Business School | Spring 2025**\n",
    "\n",
    "***"
   ]
  },
  {
   "cell_type": "markdown",
   "metadata": {},
   "source": [
    "# Part II: Agents\n",
    "\n",
    "Please see the description of the assignment in the README file (section 1) <br>\n",
    "**Guide notebooks**: [guides/router_agents_guide.ipynb](guides/agents_guide.ipynb) and [guides/tool_agents_guide.ipynb](guides/tool_agents_guide.ipynb)\n",
    "\n",
    "\n",
    "***\n",
    "<br>\n",
    "\n",
    "* Play around with the agent systems in the guides. Maybe try to create a similar system with new nodes? Or you can try to add new tools to the existing tool-using agent system.\n",
    "\n",
    "* Remember to include some reflections on your results. Are there, for example, any hyperparameters that are particularly important?\n",
    "\n",
    "* You should follow the steps given in the `router_agents_guide` notebook or the `tool_agents_guide` notebook to create your own agent system - or try to optimize the existing ones.\n",
    "\n",
    "<br>\n",
    "\n",
    "***"
   ]
  },
  {
   "cell_type": "markdown",
   "metadata": {},
   "source": []
  },
  {
   "cell_type": "markdown",
   "metadata": {},
   "source": [
    "### IT Support Ticket Agent\n",
    "\n",
    "This agent processes incoming IT support emails and determines whether they are urgent. If urgent, it notifies the IT support manager. Otherwise, it requests the user to create a formal ticket."
   ]
  },
  {
   "cell_type": "code",
   "execution_count": 99,
   "metadata": {},
   "outputs": [],
   "source": [
    "# built-in libraries\n",
    "from typing import Literal, TypedDict,  Any, Optional\n",
    "\n",
    "# langgraph libraries\n",
    "from langgraph.graph import StateGraph, START, END\n",
    "from langchain_core.runnables.graph import  MermaidDrawMethod\n",
    "\n",
    "# misc libraries\n",
    "from pydantic import Field\n",
    "from IPython.display import Image\n",
    "from decouple import config\n",
    "from ibm_watsonx_ai.metanames import GenTextParamsMetaNames as GenParams\n",
    "from tqdm import tqdm\n",
    "from sklearn.metrics import f1_score\n",
    "\n",
    "# local modules\n",
    "from src.llm import LLMCaller"
   ]
  },
  {
   "cell_type": "code",
   "execution_count": 100,
   "metadata": {},
   "outputs": [],
   "source": [
    "WX_API_KEY = config(\"WX_API_KEY\")\n",
    "WX_PROJECT_ID = config(\"WX_PROJECT_ID\")\n",
    "WX_API_URL = \"https://us-south.ml.cloud.ibm.com\""
   ]
  },
  {
   "cell_type": "code",
   "execution_count": 101,
   "metadata": {},
   "outputs": [],
   "source": [
    "model = LLMCaller(\n",
    "    api_key=WX_API_KEY,\n",
    "    project_id=WX_PROJECT_ID,\n",
    "    api_url=WX_API_URL,\n",
    "    model_id=\"watsonx/ibm/granite-3-2-8b-instruct\",\n",
    "    params={\n",
    "        GenParams.TEMPERATURE: 0.7,\n",
    "        GenParams.MAX_NEW_TOKENS: 300,\n",
    "    }\n",
    ")"
   ]
  },
  {
   "cell_type": "code",
   "execution_count": 102,
   "metadata": {},
   "outputs": [
    {
     "data": {
      "text/plain": [
       "BaseResponse(answer=\"Silent swimmer gleams,\\nIn water's depths, it silently dreams,\\nBeside the undulating streams.\")"
      ]
     },
     "execution_count": 102,
     "metadata": {},
     "output_type": "execute_result"
    }
   ],
   "source": [
    "response = model.invoke(prompt=\"Write a haiku about a fish\")\n",
    "\n",
    "response"
   ]
  },
  {
   "cell_type": "code",
   "execution_count": 103,
   "metadata": {},
   "outputs": [],
   "source": [
    "class ITSupportState(TypedDict):\n",
    "    email: dict[str, Any]  # Incoming email details\n",
    "    is_urgent: Optional[bool]  # Whether the issue is urgent\n",
    "    summary: Optional[str]  # Condensed summary of the issue\n",
    "    response: Optional[str]  # Response to the user"
   ]
  },
  {
   "cell_type": "code",
   "execution_count": 104,
   "metadata": {},
   "outputs": [],
   "source": [
    "def analyze_ticket(state: ITSupportState):\n",
    "    email = state['email']\n",
    "    prompt = f\"\"\"Analyze the following email and determine if the issue is urgent.\n",
    "    Provide a short summary if urgent, or suggest a polite response asking the user to create a formal ticket.\n",
    "    Email:\n",
    "    From: {email['sender']}\n",
    "    Subject: {email['subject']}\n",
    "    Body: {email['body']}\"\"\"\n",
    "\n",
    "    response_model = model.create_response_model(\n",
    "        \"TicketAnalysis\",\n",
    "        {\n",
    "            \"is_urgent\": (bool, Field(description=\"Whether the issue is urgent.\")),\n",
    "            \"summary\": (Optional[str], Field(description=\"Condensed summary of the issue.\")),\n",
    "            \"response\": (Optional[str], Field(description=\"Response to the user.\"))\n",
    "        }\n",
    "    )\n",
    "\n",
    "    response = model.invoke(prompt, response_model=response_model)\n",
    "    return {\n",
    "        \"is_urgent\": response.is_urgent,\n",
    "        \"summary\": response.summary,\n",
    "        \"response\": response.response\n",
    "    }"
   ]
  },
  {
   "cell_type": "code",
   "execution_count": 105,
   "metadata": {},
   "outputs": [],
   "source": [
    "def notify_manager(state: ITSupportState):\n",
    "    if state['is_urgent'] and state['summary']:\n",
    "        print(f\"Notifying IT support manager: {state['summary']}\")\n",
    "    return {}"
   ]
  },
  {
   "cell_type": "code",
   "execution_count": 106,
   "metadata": {},
   "outputs": [],
   "source": [
    "def respond_to_user(state: ITSupportState):\n",
    "    if not state['is_urgent'] and state['response']:\n",
    "        print(f\"Sending response to user: {state['response']}\")\n",
    "    return {}"
   ]
  },
  {
   "cell_type": "code",
   "execution_count": 107,
   "metadata": {},
   "outputs": [],
   "source": [
    "def route_ticket(state: ITSupportState) -> str:\n",
    "    return \"notify_manager\" if state['is_urgent'] else \"respond_to_user\""
   ]
  },
  {
   "cell_type": "markdown",
   "metadata": {},
   "source": [
    "### Visualizing the IT Support Ticket Agent\n",
    "\n"
   ]
  },
  {
   "cell_type": "code",
   "execution_count": 108,
   "metadata": {},
   "outputs": [
    {
     "name": "stdout",
     "output_type": "stream",
     "text": [
      "IT Support Ticket Agent Graph:\n"
     ]
    }
   ],
   "source": [
    "# Create the graph\n",
    "ticket_graph = StateGraph(ITSupportState)  # Initialize the graph with the ITSupportState state\n",
    "\n",
    "# Add nodes\n",
    "ticket_graph.add_node(\"analyze_ticket\", analyze_ticket)  # Add the analyze_ticket node\n",
    "ticket_graph.add_node(\"notify_manager\", notify_manager)  # Add the notify_manager node\n",
    "ticket_graph.add_node(\"respond_to_user\", respond_to_user)  # Add the respond_to_user node\n",
    "\n",
    "# Start the edges - LangGraph requires a start node\n",
    "ticket_graph.add_edge(START, \"analyze_ticket\")  # Start with analyzing the ticket\n",
    "\n",
    "# Add conditional branching from analyze_ticket\n",
    "ticket_graph.add_conditional_edges(\n",
    "    \"analyze_ticket\",\n",
    "    route_ticket,  # Based on this function..\n",
    "    {\n",
    "        \"notify_manager\": \"notify_manager\",  # .. we route to these nodes\n",
    "        \"respond_to_user\": \"respond_to_user\"\n",
    "    }\n",
    ")\n",
    "\n",
    "# Add the final edges\n",
    "ticket_graph.add_edge(\"notify_manager\", END)  # End the process after notifying the manager\n",
    "ticket_graph.add_edge(\"respond_to_user\", END)  # End the process after responding to the user\n",
    "\n",
    "# Compile the graph\n",
    "compiled_ticket_graph = ticket_graph.compile()  # Compile the graph\n",
    "\n",
    "# Display the graph structure in console\n",
    "print(\"IT Support Ticket Agent Graph:\")"
   ]
  },
  {
   "cell_type": "code",
   "execution_count": 109,
   "metadata": {},
   "outputs": [
    {
     "ename": "ValueError",
     "evalue": "Failed to reach https://mermaid.ink/ API while trying to render your graph. Status code: 502.\n\nTo resolve this issue:\n1. Check your internet connection and try again\n2. Try with higher retry settings: `draw_mermaid_png(..., max_retries=5, retry_delay=2.0)`\n3. Use the Pyppeteer rendering method which will render your graph locally in a browser: `draw_mermaid_png(..., draw_method=MermaidDrawMethod.PYPPETEER)`",
     "output_type": "error",
     "traceback": [
      "\u001b[31m---------------------------------------------------------------------------\u001b[39m",
      "\u001b[31mValueError\u001b[39m                                Traceback (most recent call last)",
      "\u001b[36mCell\u001b[39m\u001b[36m \u001b[39m\u001b[32mIn[109]\u001b[39m\u001b[32m, line 1\u001b[39m\n\u001b[32m----> \u001b[39m\u001b[32m1\u001b[39m Image(\u001b[43mcompiled_ticket_graph\u001b[49m\u001b[43m.\u001b[49m\u001b[43mget_graph\u001b[49m\u001b[43m(\u001b[49m\u001b[43m)\u001b[49m\u001b[43m.\u001b[49m\u001b[43mdraw_mermaid_png\u001b[49m\u001b[43m(\u001b[49m\u001b[43mdraw_method\u001b[49m\u001b[43m=\u001b[49m\u001b[43mMermaidDrawMethod\u001b[49m\u001b[43m.\u001b[49m\u001b[43mAPI\u001b[49m\u001b[43m,\u001b[49m\u001b[43mmax_retries\u001b[49m\u001b[43m=\u001b[49m\u001b[32;43m5\u001b[39;49m\u001b[43m,\u001b[49m\u001b[43m \u001b[49m\u001b[43mretry_delay\u001b[49m\u001b[43m=\u001b[49m\u001b[32;43m2.0\u001b[39;49m\u001b[43m)\u001b[49m)\n",
      "\u001b[36mFile \u001b[39m\u001b[32m/opt/anaconda3/envs/aiml25-ma3/lib/python3.11/site-packages/langchain_core/runnables/graph.py:683\u001b[39m, in \u001b[36mGraph.draw_mermaid_png\u001b[39m\u001b[34m(self, curve_style, node_colors, wrap_label_n_words, output_file_path, draw_method, background_color, padding, max_retries, retry_delay, frontmatter_config)\u001b[39m\n\u001b[32m    675\u001b[39m \u001b[38;5;28;01mfrom\u001b[39;00m\u001b[38;5;250m \u001b[39m\u001b[34;01mlangchain_core\u001b[39;00m\u001b[34;01m.\u001b[39;00m\u001b[34;01mrunnables\u001b[39;00m\u001b[34;01m.\u001b[39;00m\u001b[34;01mgraph_mermaid\u001b[39;00m\u001b[38;5;250m \u001b[39m\u001b[38;5;28;01mimport\u001b[39;00m draw_mermaid_png\n\u001b[32m    677\u001b[39m mermaid_syntax = \u001b[38;5;28mself\u001b[39m.draw_mermaid(\n\u001b[32m    678\u001b[39m     curve_style=curve_style,\n\u001b[32m    679\u001b[39m     node_colors=node_colors,\n\u001b[32m    680\u001b[39m     wrap_label_n_words=wrap_label_n_words,\n\u001b[32m    681\u001b[39m     frontmatter_config=frontmatter_config,\n\u001b[32m    682\u001b[39m )\n\u001b[32m--> \u001b[39m\u001b[32m683\u001b[39m \u001b[38;5;28;01mreturn\u001b[39;00m \u001b[43mdraw_mermaid_png\u001b[49m\u001b[43m(\u001b[49m\n\u001b[32m    684\u001b[39m \u001b[43m    \u001b[49m\u001b[43mmermaid_syntax\u001b[49m\u001b[43m=\u001b[49m\u001b[43mmermaid_syntax\u001b[49m\u001b[43m,\u001b[49m\n\u001b[32m    685\u001b[39m \u001b[43m    \u001b[49m\u001b[43moutput_file_path\u001b[49m\u001b[43m=\u001b[49m\u001b[43moutput_file_path\u001b[49m\u001b[43m,\u001b[49m\n\u001b[32m    686\u001b[39m \u001b[43m    \u001b[49m\u001b[43mdraw_method\u001b[49m\u001b[43m=\u001b[49m\u001b[43mdraw_method\u001b[49m\u001b[43m,\u001b[49m\n\u001b[32m    687\u001b[39m \u001b[43m    \u001b[49m\u001b[43mbackground_color\u001b[49m\u001b[43m=\u001b[49m\u001b[43mbackground_color\u001b[49m\u001b[43m,\u001b[49m\n\u001b[32m    688\u001b[39m \u001b[43m    \u001b[49m\u001b[43mpadding\u001b[49m\u001b[43m=\u001b[49m\u001b[43mpadding\u001b[49m\u001b[43m,\u001b[49m\n\u001b[32m    689\u001b[39m \u001b[43m    \u001b[49m\u001b[43mmax_retries\u001b[49m\u001b[43m=\u001b[49m\u001b[43mmax_retries\u001b[49m\u001b[43m,\u001b[49m\n\u001b[32m    690\u001b[39m \u001b[43m    \u001b[49m\u001b[43mretry_delay\u001b[49m\u001b[43m=\u001b[49m\u001b[43mretry_delay\u001b[49m\u001b[43m,\u001b[49m\n\u001b[32m    691\u001b[39m \u001b[43m\u001b[49m\u001b[43m)\u001b[49m\n",
      "\u001b[36mFile \u001b[39m\u001b[32m/opt/anaconda3/envs/aiml25-ma3/lib/python3.11/site-packages/langchain_core/runnables/graph_mermaid.py:293\u001b[39m, in \u001b[36mdraw_mermaid_png\u001b[39m\u001b[34m(mermaid_syntax, output_file_path, draw_method, background_color, padding, max_retries, retry_delay)\u001b[39m\n\u001b[32m    287\u001b[39m     img_bytes = asyncio.run(\n\u001b[32m    288\u001b[39m         _render_mermaid_using_pyppeteer(\n\u001b[32m    289\u001b[39m             mermaid_syntax, output_file_path, background_color, padding\n\u001b[32m    290\u001b[39m         )\n\u001b[32m    291\u001b[39m     )\n\u001b[32m    292\u001b[39m \u001b[38;5;28;01melif\u001b[39;00m draw_method == MermaidDrawMethod.API:\n\u001b[32m--> \u001b[39m\u001b[32m293\u001b[39m     img_bytes = \u001b[43m_render_mermaid_using_api\u001b[49m\u001b[43m(\u001b[49m\n\u001b[32m    294\u001b[39m \u001b[43m        \u001b[49m\u001b[43mmermaid_syntax\u001b[49m\u001b[43m,\u001b[49m\n\u001b[32m    295\u001b[39m \u001b[43m        \u001b[49m\u001b[43moutput_file_path\u001b[49m\u001b[43m=\u001b[49m\u001b[43moutput_file_path\u001b[49m\u001b[43m,\u001b[49m\n\u001b[32m    296\u001b[39m \u001b[43m        \u001b[49m\u001b[43mbackground_color\u001b[49m\u001b[43m=\u001b[49m\u001b[43mbackground_color\u001b[49m\u001b[43m,\u001b[49m\n\u001b[32m    297\u001b[39m \u001b[43m        \u001b[49m\u001b[43mmax_retries\u001b[49m\u001b[43m=\u001b[49m\u001b[43mmax_retries\u001b[49m\u001b[43m,\u001b[49m\n\u001b[32m    298\u001b[39m \u001b[43m        \u001b[49m\u001b[43mretry_delay\u001b[49m\u001b[43m=\u001b[49m\u001b[43mretry_delay\u001b[49m\u001b[43m,\u001b[49m\n\u001b[32m    299\u001b[39m \u001b[43m    \u001b[49m\u001b[43m)\u001b[49m\n\u001b[32m    300\u001b[39m \u001b[38;5;28;01melse\u001b[39;00m:\n\u001b[32m    301\u001b[39m     supported_methods = \u001b[33m\"\u001b[39m\u001b[33m, \u001b[39m\u001b[33m\"\u001b[39m.join([m.value \u001b[38;5;28;01mfor\u001b[39;00m m \u001b[38;5;129;01min\u001b[39;00m MermaidDrawMethod])\n",
      "\u001b[36mFile \u001b[39m\u001b[32m/opt/anaconda3/envs/aiml25-ma3/lib/python3.11/site-packages/langchain_core/runnables/graph_mermaid.py:450\u001b[39m, in \u001b[36m_render_mermaid_using_api\u001b[39m\u001b[34m(mermaid_syntax, output_file_path, background_color, file_type, max_retries, retry_delay)\u001b[39m\n\u001b[32m    445\u001b[39m     \u001b[38;5;66;03m# For other status codes, fail immediately\u001b[39;00m\n\u001b[32m    446\u001b[39m     msg = (\n\u001b[32m    447\u001b[39m         \u001b[33m\"\u001b[39m\u001b[33mFailed to reach https://mermaid.ink/ API while trying to render \u001b[39m\u001b[33m\"\u001b[39m\n\u001b[32m    448\u001b[39m         \u001b[33mf\u001b[39m\u001b[33m\"\u001b[39m\u001b[33myour graph. Status code: \u001b[39m\u001b[38;5;132;01m{\u001b[39;00mresponse.status_code\u001b[38;5;132;01m}\u001b[39;00m\u001b[33m.\u001b[39m\u001b[38;5;130;01m\\n\u001b[39;00m\u001b[38;5;130;01m\\n\u001b[39;00m\u001b[33m\"\u001b[39m\n\u001b[32m    449\u001b[39m     ) + error_msg_suffix\n\u001b[32m--> \u001b[39m\u001b[32m450\u001b[39m     \u001b[38;5;28;01mraise\u001b[39;00m \u001b[38;5;167;01mValueError\u001b[39;00m(msg)\n\u001b[32m    452\u001b[39m \u001b[38;5;28;01mexcept\u001b[39;00m (requests.RequestException, requests.Timeout) \u001b[38;5;28;01mas\u001b[39;00m e:\n\u001b[32m    453\u001b[39m     \u001b[38;5;28;01mif\u001b[39;00m attempt < max_retries:\n\u001b[32m    454\u001b[39m         \u001b[38;5;66;03m# Exponential backoff with jitter\u001b[39;00m\n",
      "\u001b[31mValueError\u001b[39m: Failed to reach https://mermaid.ink/ API while trying to render your graph. Status code: 502.\n\nTo resolve this issue:\n1. Check your internet connection and try again\n2. Try with higher retry settings: `draw_mermaid_png(..., max_retries=5, retry_delay=2.0)`\n3. Use the Pyppeteer rendering method which will render your graph locally in a browser: `draw_mermaid_png(..., draw_method=MermaidDrawMethod.PYPPETEER)`"
     ]
    }
   ],
   "source": [
    "Image(compiled_ticket_graph.get_graph().draw_mermaid_png(draw_method=MermaidDrawMethod.API,max_retries=5, retry_delay=2.0))"
   ]
  },
  {
   "cell_type": "markdown",
   "metadata": {},
   "source": [
    "## Testing the agent"
   ]
  },
  {
   "cell_type": "code",
   "execution_count": null,
   "metadata": {},
   "outputs": [
    {
     "name": "stdout",
     "output_type": "stream",
     "text": [
      "Notifying IT support manager: Server outage requiring immediate attention.\n"
     ]
    },
    {
     "data": {
      "text/plain": [
       "{'email': {'sender': 'user@example.com',\n",
       "  'subject': 'System Down!',\n",
       "  'body': 'Our main server is down, and we need immediate assistance.'},\n",
       " 'is_urgent': True,\n",
       " 'summary': 'Server outage requiring immediate attention.',\n",
       " 'response': 'Apologies for the inconvenience. Please create a formal ticket by providing as many details as possible about the issue. This will help our team address the situation more effectively.'}"
      ]
     },
     "execution_count": 58,
     "metadata": {},
     "output_type": "execute_result"
    }
   ],
   "source": [
    "test_email = {\n",
    "    \"sender\": \"user@example.com\",\n",
    "    \"subject\": \"System Down!\",\n",
    "    \"body\": \"Our main server is down, and we need immediate assistance.\"\n",
    "}\n",
    "\n",
    "compiled_ticket_graph.invoke({\n",
    "    \"email\": test_email\n",
    "})"
   ]
  },
  {
   "cell_type": "code",
   "execution_count": null,
   "metadata": {},
   "outputs": [
    {
     "name": "stdout",
     "output_type": "stream",
     "text": [
      "Sending response to user: Dear user, thank you for reaching out about your mouse lagging issue. While it's not an immediate emergency, it's important to resolve this for a smooth experience. Please consider creating a formal ticket detailing the problem, including the time of day it typically occurs and any recent changes to your system or software. This will help us better understand and address the issue. In the meantime, try restarting your computer to see if that resolves the issue.\n"
     ]
    },
    {
     "data": {
      "text/plain": [
       "{'email': {'sender': 'user@example.com',\n",
       "  'subject': 'Mouse lagging',\n",
       "  'body': 'Hi, my mouse is kid of lagging and is a bit annoing. It happens a couple a times a day'},\n",
       " 'is_urgent': False,\n",
       " 'summary': 'Mouse lagging issue',\n",
       " 'response': \"Dear user, thank you for reaching out about your mouse lagging issue. While it's not an immediate emergency, it's important to resolve this for a smooth experience. Please consider creating a formal ticket detailing the problem, including the time of day it typically occurs and any recent changes to your system or software. This will help us better understand and address the issue. In the meantime, try restarting your computer to see if that resolves the issue.\"}"
      ]
     },
     "execution_count": 59,
     "metadata": {},
     "output_type": "execute_result"
    }
   ],
   "source": [
    "test_email = {\n",
    "    \"sender\": \"user@example.com\",\n",
    "    \"subject\": \"Mouse lagging\",\n",
    "    \"body\": \"Hi, my mouse is kid of lagging and is a bit annoing. It happens a couple a times a day\"\n",
    "}\n",
    "\n",
    "compiled_ticket_graph.invoke({\n",
    "    \"email\": test_email\n",
    "})"
   ]
  },
  {
   "cell_type": "markdown",
   "metadata": {},
   "source": [
    "## Reflections\n",
    "The image/graph for the agent nodes does not work, but I cant seem to fix the issue. To test effictively, there would need to be more classified examples to evaluate from. This is next step of agent is developed further."
   ]
  }
 ],
 "metadata": {
  "kernelspec": {
   "display_name": "Python 3",
   "language": "python",
   "name": "python3"
  },
  "language_info": {
   "codemirror_mode": {
    "name": "ipython",
    "version": 3
   },
   "file_extension": ".py",
   "mimetype": "text/x-python",
   "name": "python",
   "nbconvert_exporter": "python",
   "pygments_lexer": "ipython3",
   "version": "3.11.12"
  }
 },
 "nbformat": 4,
 "nbformat_minor": 2
}
